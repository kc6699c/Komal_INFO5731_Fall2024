{
  "cells": [
    {
      "cell_type": "markdown",
      "metadata": {
        "id": "view-in-github",
        "colab_type": "text"
      },
      "source": [
        "<a href=\"https://colab.research.google.com/github/kc6699c/Komal_INFO5731_Fall2024/blob/main/CHERUKURI_INFO5731_Assignment_2_1.ipynb\" target=\"_parent\"><img src=\"https://colab.research.google.com/assets/colab-badge.svg\" alt=\"Open In Colab\"/></a>"
      ]
    },
    {
      "cell_type": "markdown",
      "metadata": {
        "id": "Ryk8D1Q4Wsrp"
      },
      "source": [
        "# **INFO5731 Assignment 2**\n",
        "\n",
        "In this assignment, you will work on gathering text data from an open data source via web scraping or API. Following this, you will need to clean the text data and perform syntactic analysis on the data. Follow the instructions carefully and design well-structured Python programs to address each question.\n",
        "\n",
        "**Expectations**:\n",
        "*   Use the provided .*ipynb* document to write your code & respond to the questions. Avoid generating a new file.\n",
        "*   Write complete answers and run all the cells before submission.\n",
        "*   Make sure the submission is \"clean\"; *i.e.*, no unnecessary code cells.\n",
        "*   Once finished, allow shared rights from top right corner (*see Canvas for details*).\n",
        "\n",
        "* **Make sure to submit the cleaned data CSV in the comment section - 10 points**\n",
        "\n",
        "**Total points**: 100\n",
        "\n",
        "**Deadline**: Tuesday, at 11:59 PM.\n",
        "\n",
        "**Late Submission will have a penalty of 10% reduction for each day after the deadline.**\n",
        "\n",
        "**Please check that the link you submitted can be opened and points to the correct assignment.**\n"
      ]
    },
    {
      "cell_type": "markdown",
      "metadata": {
        "id": "JkzR8cFAyGik"
      },
      "source": [
        "# Question 1 (40 points)\n",
        "\n",
        "Write a python program to collect text data from **either of the following sources** and save the data into a **csv file:**\n",
        "\n",
        "(1) Collect all the customer reviews of a product (you can choose any porduct) on amazon. [atleast 1000 reviews]\n",
        "\n",
        "(2) Collect the top 1000 User Reviews of a movie recently in 2023 or 2024 (you can choose any movie) from IMDB. [If one movie doesn't have sufficient reviews, collect reviews of atleast 2 or 3 movies]\n",
        "\n",
        "(3) Collect all the reviews of the top 1000 most popular software from G2 or Capterra.\n",
        "\n",
        "(4) Collect the **abstracts** of the top 10000 research papers by using the query \"machine learning\", \"data science\", \"artifical intelligence\", or \"information extraction\" from Semantic Scholar.\n",
        "\n",
        "(5) Collect all the information of the 904 narrators in the Densho Digital Repository.\n"
      ]
    },
    {
      "cell_type": "code",
      "execution_count": 5,
      "metadata": {
        "id": "jDyTKYs-yGit",
        "colab": {
          "base_uri": "https://localhost:8080/"
        },
        "outputId": "730ee8b9-70e6-4d67-bf91-c18952250569"
      },
      "outputs": [
        {
          "output_type": "stream",
          "name": "stdout",
          "text": [
            "Scraping page 1: https://www.amazon.com/Dove-Body-Wash-Pump-Moisture/dp/B00MEDOY2G/ref=sr_1_5?crid=3S099968VXMXA&dib=eyJ2IjoiMSJ9.w9FjOgRJLM0vYdIVImsScUafugbNLSs5DshepgWg8oT-U-iYhsc89jpMVDMGQ0crEEj7joKGCKZCPzcJ4YnVL1YXnfjX9zHmLf7RDM7I9hxOMkUwBb5_dem7Mm1pJKG9atvE48H397MgYFMyfSBF2fRICZJUixqmPsOBhufU3q2KEqoQhKwrkM-UZjsnQfz0DaJgmLAnBYt2ljFEDFf6DPGDztKAGyePD08yjQ0nP0vtKjCWSrk5NT7Wpu6jYB6-W1A-wApfVlXNmWqmvoAIcM_6EUlWeQAq_7YSSSVjkKU.S65d_duoQ2duZ0JW_O-BrC4slV0OqymKzdzobkWORoA&dib_tag=se&keywords=body+wash&qid=1727489826&rdc=1&sprefix=Body+%2Caps%2C92&sr=8-5&pageNumber=1\n",
            "Scraping page 2: https://www.amazon.com/Dove-Body-Wash-Pump-Moisture/dp/B00MEDOY2G/ref=sr_1_5?crid=3S099968VXMXA&dib=eyJ2IjoiMSJ9.w9FjOgRJLM0vYdIVImsScUafugbNLSs5DshepgWg8oT-U-iYhsc89jpMVDMGQ0crEEj7joKGCKZCPzcJ4YnVL1YXnfjX9zHmLf7RDM7I9hxOMkUwBb5_dem7Mm1pJKG9atvE48H397MgYFMyfSBF2fRICZJUixqmPsOBhufU3q2KEqoQhKwrkM-UZjsnQfz0DaJgmLAnBYt2ljFEDFf6DPGDztKAGyePD08yjQ0nP0vtKjCWSrk5NT7Wpu6jYB6-W1A-wApfVlXNmWqmvoAIcM_6EUlWeQAq_7YSSSVjkKU.S65d_duoQ2duZ0JW_O-BrC4slV0OqymKzdzobkWORoA&dib_tag=se&keywords=body+wash&qid=1727489826&rdc=1&sprefix=Body+%2Caps%2C92&sr=8-5&pageNumber=2\n",
            "Scraping page 3: https://www.amazon.com/Dove-Body-Wash-Pump-Moisture/dp/B00MEDOY2G/ref=sr_1_5?crid=3S099968VXMXA&dib=eyJ2IjoiMSJ9.w9FjOgRJLM0vYdIVImsScUafugbNLSs5DshepgWg8oT-U-iYhsc89jpMVDMGQ0crEEj7joKGCKZCPzcJ4YnVL1YXnfjX9zHmLf7RDM7I9hxOMkUwBb5_dem7Mm1pJKG9atvE48H397MgYFMyfSBF2fRICZJUixqmPsOBhufU3q2KEqoQhKwrkM-UZjsnQfz0DaJgmLAnBYt2ljFEDFf6DPGDztKAGyePD08yjQ0nP0vtKjCWSrk5NT7Wpu6jYB6-W1A-wApfVlXNmWqmvoAIcM_6EUlWeQAq_7YSSSVjkKU.S65d_duoQ2duZ0JW_O-BrC4slV0OqymKzdzobkWORoA&dib_tag=se&keywords=body+wash&qid=1727489826&rdc=1&sprefix=Body+%2Caps%2C92&sr=8-5&pageNumber=3\n",
            "Scraping page 4: https://www.amazon.com/Dove-Body-Wash-Pump-Moisture/dp/B00MEDOY2G/ref=sr_1_5?crid=3S099968VXMXA&dib=eyJ2IjoiMSJ9.w9FjOgRJLM0vYdIVImsScUafugbNLSs5DshepgWg8oT-U-iYhsc89jpMVDMGQ0crEEj7joKGCKZCPzcJ4YnVL1YXnfjX9zHmLf7RDM7I9hxOMkUwBb5_dem7Mm1pJKG9atvE48H397MgYFMyfSBF2fRICZJUixqmPsOBhufU3q2KEqoQhKwrkM-UZjsnQfz0DaJgmLAnBYt2ljFEDFf6DPGDztKAGyePD08yjQ0nP0vtKjCWSrk5NT7Wpu6jYB6-W1A-wApfVlXNmWqmvoAIcM_6EUlWeQAq_7YSSSVjkKU.S65d_duoQ2duZ0JW_O-BrC4slV0OqymKzdzobkWORoA&dib_tag=se&keywords=body+wash&qid=1727489826&rdc=1&sprefix=Body+%2Caps%2C92&sr=8-5&pageNumber=4\n",
            "Scraping page 5: https://www.amazon.com/Dove-Body-Wash-Pump-Moisture/dp/B00MEDOY2G/ref=sr_1_5?crid=3S099968VXMXA&dib=eyJ2IjoiMSJ9.w9FjOgRJLM0vYdIVImsScUafugbNLSs5DshepgWg8oT-U-iYhsc89jpMVDMGQ0crEEj7joKGCKZCPzcJ4YnVL1YXnfjX9zHmLf7RDM7I9hxOMkUwBb5_dem7Mm1pJKG9atvE48H397MgYFMyfSBF2fRICZJUixqmPsOBhufU3q2KEqoQhKwrkM-UZjsnQfz0DaJgmLAnBYt2ljFEDFf6DPGDztKAGyePD08yjQ0nP0vtKjCWSrk5NT7Wpu6jYB6-W1A-wApfVlXNmWqmvoAIcM_6EUlWeQAq_7YSSSVjkKU.S65d_duoQ2duZ0JW_O-BrC4slV0OqymKzdzobkWORoA&dib_tag=se&keywords=body+wash&qid=1727489826&rdc=1&sprefix=Body+%2Caps%2C92&sr=8-5&pageNumber=5\n",
            "Scraping page 6: https://www.amazon.com/Dove-Body-Wash-Pump-Moisture/dp/B00MEDOY2G/ref=sr_1_5?crid=3S099968VXMXA&dib=eyJ2IjoiMSJ9.w9FjOgRJLM0vYdIVImsScUafugbNLSs5DshepgWg8oT-U-iYhsc89jpMVDMGQ0crEEj7joKGCKZCPzcJ4YnVL1YXnfjX9zHmLf7RDM7I9hxOMkUwBb5_dem7Mm1pJKG9atvE48H397MgYFMyfSBF2fRICZJUixqmPsOBhufU3q2KEqoQhKwrkM-UZjsnQfz0DaJgmLAnBYt2ljFEDFf6DPGDztKAGyePD08yjQ0nP0vtKjCWSrk5NT7Wpu6jYB6-W1A-wApfVlXNmWqmvoAIcM_6EUlWeQAq_7YSSSVjkKU.S65d_duoQ2duZ0JW_O-BrC4slV0OqymKzdzobkWORoA&dib_tag=se&keywords=body+wash&qid=1727489826&rdc=1&sprefix=Body+%2Caps%2C92&sr=8-5&pageNumber=6\n",
            "Scraping page 7: https://www.amazon.com/Dove-Body-Wash-Pump-Moisture/dp/B00MEDOY2G/ref=sr_1_5?crid=3S099968VXMXA&dib=eyJ2IjoiMSJ9.w9FjOgRJLM0vYdIVImsScUafugbNLSs5DshepgWg8oT-U-iYhsc89jpMVDMGQ0crEEj7joKGCKZCPzcJ4YnVL1YXnfjX9zHmLf7RDM7I9hxOMkUwBb5_dem7Mm1pJKG9atvE48H397MgYFMyfSBF2fRICZJUixqmPsOBhufU3q2KEqoQhKwrkM-UZjsnQfz0DaJgmLAnBYt2ljFEDFf6DPGDztKAGyePD08yjQ0nP0vtKjCWSrk5NT7Wpu6jYB6-W1A-wApfVlXNmWqmvoAIcM_6EUlWeQAq_7YSSSVjkKU.S65d_duoQ2duZ0JW_O-BrC4slV0OqymKzdzobkWORoA&dib_tag=se&keywords=body+wash&qid=1727489826&rdc=1&sprefix=Body+%2Caps%2C92&sr=8-5&pageNumber=7\n",
            "Scraping page 8: https://www.amazon.com/Dove-Body-Wash-Pump-Moisture/dp/B00MEDOY2G/ref=sr_1_5?crid=3S099968VXMXA&dib=eyJ2IjoiMSJ9.w9FjOgRJLM0vYdIVImsScUafugbNLSs5DshepgWg8oT-U-iYhsc89jpMVDMGQ0crEEj7joKGCKZCPzcJ4YnVL1YXnfjX9zHmLf7RDM7I9hxOMkUwBb5_dem7Mm1pJKG9atvE48H397MgYFMyfSBF2fRICZJUixqmPsOBhufU3q2KEqoQhKwrkM-UZjsnQfz0DaJgmLAnBYt2ljFEDFf6DPGDztKAGyePD08yjQ0nP0vtKjCWSrk5NT7Wpu6jYB6-W1A-wApfVlXNmWqmvoAIcM_6EUlWeQAq_7YSSSVjkKU.S65d_duoQ2duZ0JW_O-BrC4slV0OqymKzdzobkWORoA&dib_tag=se&keywords=body+wash&qid=1727489826&rdc=1&sprefix=Body+%2Caps%2C92&sr=8-5&pageNumber=8\n",
            "Scraping page 9: https://www.amazon.com/Dove-Body-Wash-Pump-Moisture/dp/B00MEDOY2G/ref=sr_1_5?crid=3S099968VXMXA&dib=eyJ2IjoiMSJ9.w9FjOgRJLM0vYdIVImsScUafugbNLSs5DshepgWg8oT-U-iYhsc89jpMVDMGQ0crEEj7joKGCKZCPzcJ4YnVL1YXnfjX9zHmLf7RDM7I9hxOMkUwBb5_dem7Mm1pJKG9atvE48H397MgYFMyfSBF2fRICZJUixqmPsOBhufU3q2KEqoQhKwrkM-UZjsnQfz0DaJgmLAnBYt2ljFEDFf6DPGDztKAGyePD08yjQ0nP0vtKjCWSrk5NT7Wpu6jYB6-W1A-wApfVlXNmWqmvoAIcM_6EUlWeQAq_7YSSSVjkKU.S65d_duoQ2duZ0JW_O-BrC4slV0OqymKzdzobkWORoA&dib_tag=se&keywords=body+wash&qid=1727489826&rdc=1&sprefix=Body+%2Caps%2C92&sr=8-5&pageNumber=9\n",
            "Scraping page 10: https://www.amazon.com/Dove-Body-Wash-Pump-Moisture/dp/B00MEDOY2G/ref=sr_1_5?crid=3S099968VXMXA&dib=eyJ2IjoiMSJ9.w9FjOgRJLM0vYdIVImsScUafugbNLSs5DshepgWg8oT-U-iYhsc89jpMVDMGQ0crEEj7joKGCKZCPzcJ4YnVL1YXnfjX9zHmLf7RDM7I9hxOMkUwBb5_dem7Mm1pJKG9atvE48H397MgYFMyfSBF2fRICZJUixqmPsOBhufU3q2KEqoQhKwrkM-UZjsnQfz0DaJgmLAnBYt2ljFEDFf6DPGDztKAGyePD08yjQ0nP0vtKjCWSrk5NT7Wpu6jYB6-W1A-wApfVlXNmWqmvoAIcM_6EUlWeQAq_7YSSSVjkKU.S65d_duoQ2duZ0JW_O-BrC4slV0OqymKzdzobkWORoA&dib_tag=se&keywords=body+wash&qid=1727489826&rdc=1&sprefix=Body+%2Caps%2C92&sr=8-5&pageNumber=10\n",
            "Scraping page 11: https://www.amazon.com/Dove-Body-Wash-Pump-Moisture/dp/B00MEDOY2G/ref=sr_1_5?crid=3S099968VXMXA&dib=eyJ2IjoiMSJ9.w9FjOgRJLM0vYdIVImsScUafugbNLSs5DshepgWg8oT-U-iYhsc89jpMVDMGQ0crEEj7joKGCKZCPzcJ4YnVL1YXnfjX9zHmLf7RDM7I9hxOMkUwBb5_dem7Mm1pJKG9atvE48H397MgYFMyfSBF2fRICZJUixqmPsOBhufU3q2KEqoQhKwrkM-UZjsnQfz0DaJgmLAnBYt2ljFEDFf6DPGDztKAGyePD08yjQ0nP0vtKjCWSrk5NT7Wpu6jYB6-W1A-wApfVlXNmWqmvoAIcM_6EUlWeQAq_7YSSSVjkKU.S65d_duoQ2duZ0JW_O-BrC4slV0OqymKzdzobkWORoA&dib_tag=se&keywords=body+wash&qid=1727489826&rdc=1&sprefix=Body+%2Caps%2C92&sr=8-5&pageNumber=11\n",
            "Scraping page 12: https://www.amazon.com/Dove-Body-Wash-Pump-Moisture/dp/B00MEDOY2G/ref=sr_1_5?crid=3S099968VXMXA&dib=eyJ2IjoiMSJ9.w9FjOgRJLM0vYdIVImsScUafugbNLSs5DshepgWg8oT-U-iYhsc89jpMVDMGQ0crEEj7joKGCKZCPzcJ4YnVL1YXnfjX9zHmLf7RDM7I9hxOMkUwBb5_dem7Mm1pJKG9atvE48H397MgYFMyfSBF2fRICZJUixqmPsOBhufU3q2KEqoQhKwrkM-UZjsnQfz0DaJgmLAnBYt2ljFEDFf6DPGDztKAGyePD08yjQ0nP0vtKjCWSrk5NT7Wpu6jYB6-W1A-wApfVlXNmWqmvoAIcM_6EUlWeQAq_7YSSSVjkKU.S65d_duoQ2duZ0JW_O-BrC4slV0OqymKzdzobkWORoA&dib_tag=se&keywords=body+wash&qid=1727489826&rdc=1&sprefix=Body+%2Caps%2C92&sr=8-5&pageNumber=12\n",
            "Scraping page 13: https://www.amazon.com/Dove-Body-Wash-Pump-Moisture/dp/B00MEDOY2G/ref=sr_1_5?crid=3S099968VXMXA&dib=eyJ2IjoiMSJ9.w9FjOgRJLM0vYdIVImsScUafugbNLSs5DshepgWg8oT-U-iYhsc89jpMVDMGQ0crEEj7joKGCKZCPzcJ4YnVL1YXnfjX9zHmLf7RDM7I9hxOMkUwBb5_dem7Mm1pJKG9atvE48H397MgYFMyfSBF2fRICZJUixqmPsOBhufU3q2KEqoQhKwrkM-UZjsnQfz0DaJgmLAnBYt2ljFEDFf6DPGDztKAGyePD08yjQ0nP0vtKjCWSrk5NT7Wpu6jYB6-W1A-wApfVlXNmWqmvoAIcM_6EUlWeQAq_7YSSSVjkKU.S65d_duoQ2duZ0JW_O-BrC4slV0OqymKzdzobkWORoA&dib_tag=se&keywords=body+wash&qid=1727489826&rdc=1&sprefix=Body+%2Caps%2C92&sr=8-5&pageNumber=13\n",
            "Scraping page 14: https://www.amazon.com/Dove-Body-Wash-Pump-Moisture/dp/B00MEDOY2G/ref=sr_1_5?crid=3S099968VXMXA&dib=eyJ2IjoiMSJ9.w9FjOgRJLM0vYdIVImsScUafugbNLSs5DshepgWg8oT-U-iYhsc89jpMVDMGQ0crEEj7joKGCKZCPzcJ4YnVL1YXnfjX9zHmLf7RDM7I9hxOMkUwBb5_dem7Mm1pJKG9atvE48H397MgYFMyfSBF2fRICZJUixqmPsOBhufU3q2KEqoQhKwrkM-UZjsnQfz0DaJgmLAnBYt2ljFEDFf6DPGDztKAGyePD08yjQ0nP0vtKjCWSrk5NT7Wpu6jYB6-W1A-wApfVlXNmWqmvoAIcM_6EUlWeQAq_7YSSSVjkKU.S65d_duoQ2duZ0JW_O-BrC4slV0OqymKzdzobkWORoA&dib_tag=se&keywords=body+wash&qid=1727489826&rdc=1&sprefix=Body+%2Caps%2C92&sr=8-5&pageNumber=14\n",
            "Scraping page 15: https://www.amazon.com/Dove-Body-Wash-Pump-Moisture/dp/B00MEDOY2G/ref=sr_1_5?crid=3S099968VXMXA&dib=eyJ2IjoiMSJ9.w9FjOgRJLM0vYdIVImsScUafugbNLSs5DshepgWg8oT-U-iYhsc89jpMVDMGQ0crEEj7joKGCKZCPzcJ4YnVL1YXnfjX9zHmLf7RDM7I9hxOMkUwBb5_dem7Mm1pJKG9atvE48H397MgYFMyfSBF2fRICZJUixqmPsOBhufU3q2KEqoQhKwrkM-UZjsnQfz0DaJgmLAnBYt2ljFEDFf6DPGDztKAGyePD08yjQ0nP0vtKjCWSrk5NT7Wpu6jYB6-W1A-wApfVlXNmWqmvoAIcM_6EUlWeQAq_7YSSSVjkKU.S65d_duoQ2duZ0JW_O-BrC4slV0OqymKzdzobkWORoA&dib_tag=se&keywords=body+wash&qid=1727489826&rdc=1&sprefix=Body+%2Caps%2C92&sr=8-5&pageNumber=15\n",
            "Scraping page 16: https://www.amazon.com/Dove-Body-Wash-Pump-Moisture/dp/B00MEDOY2G/ref=sr_1_5?crid=3S099968VXMXA&dib=eyJ2IjoiMSJ9.w9FjOgRJLM0vYdIVImsScUafugbNLSs5DshepgWg8oT-U-iYhsc89jpMVDMGQ0crEEj7joKGCKZCPzcJ4YnVL1YXnfjX9zHmLf7RDM7I9hxOMkUwBb5_dem7Mm1pJKG9atvE48H397MgYFMyfSBF2fRICZJUixqmPsOBhufU3q2KEqoQhKwrkM-UZjsnQfz0DaJgmLAnBYt2ljFEDFf6DPGDztKAGyePD08yjQ0nP0vtKjCWSrk5NT7Wpu6jYB6-W1A-wApfVlXNmWqmvoAIcM_6EUlWeQAq_7YSSSVjkKU.S65d_duoQ2duZ0JW_O-BrC4slV0OqymKzdzobkWORoA&dib_tag=se&keywords=body+wash&qid=1727489826&rdc=1&sprefix=Body+%2Caps%2C92&sr=8-5&pageNumber=16\n",
            "Scraping page 17: https://www.amazon.com/Dove-Body-Wash-Pump-Moisture/dp/B00MEDOY2G/ref=sr_1_5?crid=3S099968VXMXA&dib=eyJ2IjoiMSJ9.w9FjOgRJLM0vYdIVImsScUafugbNLSs5DshepgWg8oT-U-iYhsc89jpMVDMGQ0crEEj7joKGCKZCPzcJ4YnVL1YXnfjX9zHmLf7RDM7I9hxOMkUwBb5_dem7Mm1pJKG9atvE48H397MgYFMyfSBF2fRICZJUixqmPsOBhufU3q2KEqoQhKwrkM-UZjsnQfz0DaJgmLAnBYt2ljFEDFf6DPGDztKAGyePD08yjQ0nP0vtKjCWSrk5NT7Wpu6jYB6-W1A-wApfVlXNmWqmvoAIcM_6EUlWeQAq_7YSSSVjkKU.S65d_duoQ2duZ0JW_O-BrC4slV0OqymKzdzobkWORoA&dib_tag=se&keywords=body+wash&qid=1727489826&rdc=1&sprefix=Body+%2Caps%2C92&sr=8-5&pageNumber=17\n",
            "Scraping page 18: https://www.amazon.com/Dove-Body-Wash-Pump-Moisture/dp/B00MEDOY2G/ref=sr_1_5?crid=3S099968VXMXA&dib=eyJ2IjoiMSJ9.w9FjOgRJLM0vYdIVImsScUafugbNLSs5DshepgWg8oT-U-iYhsc89jpMVDMGQ0crEEj7joKGCKZCPzcJ4YnVL1YXnfjX9zHmLf7RDM7I9hxOMkUwBb5_dem7Mm1pJKG9atvE48H397MgYFMyfSBF2fRICZJUixqmPsOBhufU3q2KEqoQhKwrkM-UZjsnQfz0DaJgmLAnBYt2ljFEDFf6DPGDztKAGyePD08yjQ0nP0vtKjCWSrk5NT7Wpu6jYB6-W1A-wApfVlXNmWqmvoAIcM_6EUlWeQAq_7YSSSVjkKU.S65d_duoQ2duZ0JW_O-BrC4slV0OqymKzdzobkWORoA&dib_tag=se&keywords=body+wash&qid=1727489826&rdc=1&sprefix=Body+%2Caps%2C92&sr=8-5&pageNumber=18\n",
            "Scraping page 19: https://www.amazon.com/Dove-Body-Wash-Pump-Moisture/dp/B00MEDOY2G/ref=sr_1_5?crid=3S099968VXMXA&dib=eyJ2IjoiMSJ9.w9FjOgRJLM0vYdIVImsScUafugbNLSs5DshepgWg8oT-U-iYhsc89jpMVDMGQ0crEEj7joKGCKZCPzcJ4YnVL1YXnfjX9zHmLf7RDM7I9hxOMkUwBb5_dem7Mm1pJKG9atvE48H397MgYFMyfSBF2fRICZJUixqmPsOBhufU3q2KEqoQhKwrkM-UZjsnQfz0DaJgmLAnBYt2ljFEDFf6DPGDztKAGyePD08yjQ0nP0vtKjCWSrk5NT7Wpu6jYB6-W1A-wApfVlXNmWqmvoAIcM_6EUlWeQAq_7YSSSVjkKU.S65d_duoQ2duZ0JW_O-BrC4slV0OqymKzdzobkWORoA&dib_tag=se&keywords=body+wash&qid=1727489826&rdc=1&sprefix=Body+%2Caps%2C92&sr=8-5&pageNumber=19\n",
            "Scraping page 20: https://www.amazon.com/Dove-Body-Wash-Pump-Moisture/dp/B00MEDOY2G/ref=sr_1_5?crid=3S099968VXMXA&dib=eyJ2IjoiMSJ9.w9FjOgRJLM0vYdIVImsScUafugbNLSs5DshepgWg8oT-U-iYhsc89jpMVDMGQ0crEEj7joKGCKZCPzcJ4YnVL1YXnfjX9zHmLf7RDM7I9hxOMkUwBb5_dem7Mm1pJKG9atvE48H397MgYFMyfSBF2fRICZJUixqmPsOBhufU3q2KEqoQhKwrkM-UZjsnQfz0DaJgmLAnBYt2ljFEDFf6DPGDztKAGyePD08yjQ0nP0vtKjCWSrk5NT7Wpu6jYB6-W1A-wApfVlXNmWqmvoAIcM_6EUlWeQAq_7YSSSVjkKU.S65d_duoQ2duZ0JW_O-BrC4slV0OqymKzdzobkWORoA&dib_tag=se&keywords=body+wash&qid=1727489826&rdc=1&sprefix=Body+%2Caps%2C92&sr=8-5&pageNumber=20\n",
            "Scraping page 21: https://www.amazon.com/Dove-Body-Wash-Pump-Moisture/dp/B00MEDOY2G/ref=sr_1_5?crid=3S099968VXMXA&dib=eyJ2IjoiMSJ9.w9FjOgRJLM0vYdIVImsScUafugbNLSs5DshepgWg8oT-U-iYhsc89jpMVDMGQ0crEEj7joKGCKZCPzcJ4YnVL1YXnfjX9zHmLf7RDM7I9hxOMkUwBb5_dem7Mm1pJKG9atvE48H397MgYFMyfSBF2fRICZJUixqmPsOBhufU3q2KEqoQhKwrkM-UZjsnQfz0DaJgmLAnBYt2ljFEDFf6DPGDztKAGyePD08yjQ0nP0vtKjCWSrk5NT7Wpu6jYB6-W1A-wApfVlXNmWqmvoAIcM_6EUlWeQAq_7YSSSVjkKU.S65d_duoQ2duZ0JW_O-BrC4slV0OqymKzdzobkWORoA&dib_tag=se&keywords=body+wash&qid=1727489826&rdc=1&sprefix=Body+%2Caps%2C92&sr=8-5&pageNumber=21\n",
            "Scraping page 22: https://www.amazon.com/Dove-Body-Wash-Pump-Moisture/dp/B00MEDOY2G/ref=sr_1_5?crid=3S099968VXMXA&dib=eyJ2IjoiMSJ9.w9FjOgRJLM0vYdIVImsScUafugbNLSs5DshepgWg8oT-U-iYhsc89jpMVDMGQ0crEEj7joKGCKZCPzcJ4YnVL1YXnfjX9zHmLf7RDM7I9hxOMkUwBb5_dem7Mm1pJKG9atvE48H397MgYFMyfSBF2fRICZJUixqmPsOBhufU3q2KEqoQhKwrkM-UZjsnQfz0DaJgmLAnBYt2ljFEDFf6DPGDztKAGyePD08yjQ0nP0vtKjCWSrk5NT7Wpu6jYB6-W1A-wApfVlXNmWqmvoAIcM_6EUlWeQAq_7YSSSVjkKU.S65d_duoQ2duZ0JW_O-BrC4slV0OqymKzdzobkWORoA&dib_tag=se&keywords=body+wash&qid=1727489826&rdc=1&sprefix=Body+%2Caps%2C92&sr=8-5&pageNumber=22\n",
            "Scraping page 23: https://www.amazon.com/Dove-Body-Wash-Pump-Moisture/dp/B00MEDOY2G/ref=sr_1_5?crid=3S099968VXMXA&dib=eyJ2IjoiMSJ9.w9FjOgRJLM0vYdIVImsScUafugbNLSs5DshepgWg8oT-U-iYhsc89jpMVDMGQ0crEEj7joKGCKZCPzcJ4YnVL1YXnfjX9zHmLf7RDM7I9hxOMkUwBb5_dem7Mm1pJKG9atvE48H397MgYFMyfSBF2fRICZJUixqmPsOBhufU3q2KEqoQhKwrkM-UZjsnQfz0DaJgmLAnBYt2ljFEDFf6DPGDztKAGyePD08yjQ0nP0vtKjCWSrk5NT7Wpu6jYB6-W1A-wApfVlXNmWqmvoAIcM_6EUlWeQAq_7YSSSVjkKU.S65d_duoQ2duZ0JW_O-BrC4slV0OqymKzdzobkWORoA&dib_tag=se&keywords=body+wash&qid=1727489826&rdc=1&sprefix=Body+%2Caps%2C92&sr=8-5&pageNumber=23\n",
            "Scraping page 24: https://www.amazon.com/Dove-Body-Wash-Pump-Moisture/dp/B00MEDOY2G/ref=sr_1_5?crid=3S099968VXMXA&dib=eyJ2IjoiMSJ9.w9FjOgRJLM0vYdIVImsScUafugbNLSs5DshepgWg8oT-U-iYhsc89jpMVDMGQ0crEEj7joKGCKZCPzcJ4YnVL1YXnfjX9zHmLf7RDM7I9hxOMkUwBb5_dem7Mm1pJKG9atvE48H397MgYFMyfSBF2fRICZJUixqmPsOBhufU3q2KEqoQhKwrkM-UZjsnQfz0DaJgmLAnBYt2ljFEDFf6DPGDztKAGyePD08yjQ0nP0vtKjCWSrk5NT7Wpu6jYB6-W1A-wApfVlXNmWqmvoAIcM_6EUlWeQAq_7YSSSVjkKU.S65d_duoQ2duZ0JW_O-BrC4slV0OqymKzdzobkWORoA&dib_tag=se&keywords=body+wash&qid=1727489826&rdc=1&sprefix=Body+%2Caps%2C92&sr=8-5&pageNumber=24\n",
            "Scraping page 25: https://www.amazon.com/Dove-Body-Wash-Pump-Moisture/dp/B00MEDOY2G/ref=sr_1_5?crid=3S099968VXMXA&dib=eyJ2IjoiMSJ9.w9FjOgRJLM0vYdIVImsScUafugbNLSs5DshepgWg8oT-U-iYhsc89jpMVDMGQ0crEEj7joKGCKZCPzcJ4YnVL1YXnfjX9zHmLf7RDM7I9hxOMkUwBb5_dem7Mm1pJKG9atvE48H397MgYFMyfSBF2fRICZJUixqmPsOBhufU3q2KEqoQhKwrkM-UZjsnQfz0DaJgmLAnBYt2ljFEDFf6DPGDztKAGyePD08yjQ0nP0vtKjCWSrk5NT7Wpu6jYB6-W1A-wApfVlXNmWqmvoAIcM_6EUlWeQAq_7YSSSVjkKU.S65d_duoQ2duZ0JW_O-BrC4slV0OqymKzdzobkWORoA&dib_tag=se&keywords=body+wash&qid=1727489826&rdc=1&sprefix=Body+%2Caps%2C92&sr=8-5&pageNumber=25\n",
            "Scraping page 26: https://www.amazon.com/Dove-Body-Wash-Pump-Moisture/dp/B00MEDOY2G/ref=sr_1_5?crid=3S099968VXMXA&dib=eyJ2IjoiMSJ9.w9FjOgRJLM0vYdIVImsScUafugbNLSs5DshepgWg8oT-U-iYhsc89jpMVDMGQ0crEEj7joKGCKZCPzcJ4YnVL1YXnfjX9zHmLf7RDM7I9hxOMkUwBb5_dem7Mm1pJKG9atvE48H397MgYFMyfSBF2fRICZJUixqmPsOBhufU3q2KEqoQhKwrkM-UZjsnQfz0DaJgmLAnBYt2ljFEDFf6DPGDztKAGyePD08yjQ0nP0vtKjCWSrk5NT7Wpu6jYB6-W1A-wApfVlXNmWqmvoAIcM_6EUlWeQAq_7YSSSVjkKU.S65d_duoQ2duZ0JW_O-BrC4slV0OqymKzdzobkWORoA&dib_tag=se&keywords=body+wash&qid=1727489826&rdc=1&sprefix=Body+%2Caps%2C92&sr=8-5&pageNumber=26\n",
            "Scraping page 27: https://www.amazon.com/Dove-Body-Wash-Pump-Moisture/dp/B00MEDOY2G/ref=sr_1_5?crid=3S099968VXMXA&dib=eyJ2IjoiMSJ9.w9FjOgRJLM0vYdIVImsScUafugbNLSs5DshepgWg8oT-U-iYhsc89jpMVDMGQ0crEEj7joKGCKZCPzcJ4YnVL1YXnfjX9zHmLf7RDM7I9hxOMkUwBb5_dem7Mm1pJKG9atvE48H397MgYFMyfSBF2fRICZJUixqmPsOBhufU3q2KEqoQhKwrkM-UZjsnQfz0DaJgmLAnBYt2ljFEDFf6DPGDztKAGyePD08yjQ0nP0vtKjCWSrk5NT7Wpu6jYB6-W1A-wApfVlXNmWqmvoAIcM_6EUlWeQAq_7YSSSVjkKU.S65d_duoQ2duZ0JW_O-BrC4slV0OqymKzdzobkWORoA&dib_tag=se&keywords=body+wash&qid=1727489826&rdc=1&sprefix=Body+%2Caps%2C92&sr=8-5&pageNumber=27\n",
            "Scraping page 28: https://www.amazon.com/Dove-Body-Wash-Pump-Moisture/dp/B00MEDOY2G/ref=sr_1_5?crid=3S099968VXMXA&dib=eyJ2IjoiMSJ9.w9FjOgRJLM0vYdIVImsScUafugbNLSs5DshepgWg8oT-U-iYhsc89jpMVDMGQ0crEEj7joKGCKZCPzcJ4YnVL1YXnfjX9zHmLf7RDM7I9hxOMkUwBb5_dem7Mm1pJKG9atvE48H397MgYFMyfSBF2fRICZJUixqmPsOBhufU3q2KEqoQhKwrkM-UZjsnQfz0DaJgmLAnBYt2ljFEDFf6DPGDztKAGyePD08yjQ0nP0vtKjCWSrk5NT7Wpu6jYB6-W1A-wApfVlXNmWqmvoAIcM_6EUlWeQAq_7YSSSVjkKU.S65d_duoQ2duZ0JW_O-BrC4slV0OqymKzdzobkWORoA&dib_tag=se&keywords=body+wash&qid=1727489826&rdc=1&sprefix=Body+%2Caps%2C92&sr=8-5&pageNumber=28\n",
            "Scraping page 29: https://www.amazon.com/Dove-Body-Wash-Pump-Moisture/dp/B00MEDOY2G/ref=sr_1_5?crid=3S099968VXMXA&dib=eyJ2IjoiMSJ9.w9FjOgRJLM0vYdIVImsScUafugbNLSs5DshepgWg8oT-U-iYhsc89jpMVDMGQ0crEEj7joKGCKZCPzcJ4YnVL1YXnfjX9zHmLf7RDM7I9hxOMkUwBb5_dem7Mm1pJKG9atvE48H397MgYFMyfSBF2fRICZJUixqmPsOBhufU3q2KEqoQhKwrkM-UZjsnQfz0DaJgmLAnBYt2ljFEDFf6DPGDztKAGyePD08yjQ0nP0vtKjCWSrk5NT7Wpu6jYB6-W1A-wApfVlXNmWqmvoAIcM_6EUlWeQAq_7YSSSVjkKU.S65d_duoQ2duZ0JW_O-BrC4slV0OqymKzdzobkWORoA&dib_tag=se&keywords=body+wash&qid=1727489826&rdc=1&sprefix=Body+%2Caps%2C92&sr=8-5&pageNumber=29\n",
            "Scraping page 30: https://www.amazon.com/Dove-Body-Wash-Pump-Moisture/dp/B00MEDOY2G/ref=sr_1_5?crid=3S099968VXMXA&dib=eyJ2IjoiMSJ9.w9FjOgRJLM0vYdIVImsScUafugbNLSs5DshepgWg8oT-U-iYhsc89jpMVDMGQ0crEEj7joKGCKZCPzcJ4YnVL1YXnfjX9zHmLf7RDM7I9hxOMkUwBb5_dem7Mm1pJKG9atvE48H397MgYFMyfSBF2fRICZJUixqmPsOBhufU3q2KEqoQhKwrkM-UZjsnQfz0DaJgmLAnBYt2ljFEDFf6DPGDztKAGyePD08yjQ0nP0vtKjCWSrk5NT7Wpu6jYB6-W1A-wApfVlXNmWqmvoAIcM_6EUlWeQAq_7YSSSVjkKU.S65d_duoQ2duZ0JW_O-BrC4slV0OqymKzdzobkWORoA&dib_tag=se&keywords=body+wash&qid=1727489826&rdc=1&sprefix=Body+%2Caps%2C92&sr=8-5&pageNumber=30\n",
            "Scraping page 31: https://www.amazon.com/Dove-Body-Wash-Pump-Moisture/dp/B00MEDOY2G/ref=sr_1_5?crid=3S099968VXMXA&dib=eyJ2IjoiMSJ9.w9FjOgRJLM0vYdIVImsScUafugbNLSs5DshepgWg8oT-U-iYhsc89jpMVDMGQ0crEEj7joKGCKZCPzcJ4YnVL1YXnfjX9zHmLf7RDM7I9hxOMkUwBb5_dem7Mm1pJKG9atvE48H397MgYFMyfSBF2fRICZJUixqmPsOBhufU3q2KEqoQhKwrkM-UZjsnQfz0DaJgmLAnBYt2ljFEDFf6DPGDztKAGyePD08yjQ0nP0vtKjCWSrk5NT7Wpu6jYB6-W1A-wApfVlXNmWqmvoAIcM_6EUlWeQAq_7YSSSVjkKU.S65d_duoQ2duZ0JW_O-BrC4slV0OqymKzdzobkWORoA&dib_tag=se&keywords=body+wash&qid=1727489826&rdc=1&sprefix=Body+%2Caps%2C92&sr=8-5&pageNumber=31\n",
            "Scraping page 32: https://www.amazon.com/Dove-Body-Wash-Pump-Moisture/dp/B00MEDOY2G/ref=sr_1_5?crid=3S099968VXMXA&dib=eyJ2IjoiMSJ9.w9FjOgRJLM0vYdIVImsScUafugbNLSs5DshepgWg8oT-U-iYhsc89jpMVDMGQ0crEEj7joKGCKZCPzcJ4YnVL1YXnfjX9zHmLf7RDM7I9hxOMkUwBb5_dem7Mm1pJKG9atvE48H397MgYFMyfSBF2fRICZJUixqmPsOBhufU3q2KEqoQhKwrkM-UZjsnQfz0DaJgmLAnBYt2ljFEDFf6DPGDztKAGyePD08yjQ0nP0vtKjCWSrk5NT7Wpu6jYB6-W1A-wApfVlXNmWqmvoAIcM_6EUlWeQAq_7YSSSVjkKU.S65d_duoQ2duZ0JW_O-BrC4slV0OqymKzdzobkWORoA&dib_tag=se&keywords=body+wash&qid=1727489826&rdc=1&sprefix=Body+%2Caps%2C92&sr=8-5&pageNumber=32\n",
            "Scraping page 33: https://www.amazon.com/Dove-Body-Wash-Pump-Moisture/dp/B00MEDOY2G/ref=sr_1_5?crid=3S099968VXMXA&dib=eyJ2IjoiMSJ9.w9FjOgRJLM0vYdIVImsScUafugbNLSs5DshepgWg8oT-U-iYhsc89jpMVDMGQ0crEEj7joKGCKZCPzcJ4YnVL1YXnfjX9zHmLf7RDM7I9hxOMkUwBb5_dem7Mm1pJKG9atvE48H397MgYFMyfSBF2fRICZJUixqmPsOBhufU3q2KEqoQhKwrkM-UZjsnQfz0DaJgmLAnBYt2ljFEDFf6DPGDztKAGyePD08yjQ0nP0vtKjCWSrk5NT7Wpu6jYB6-W1A-wApfVlXNmWqmvoAIcM_6EUlWeQAq_7YSSSVjkKU.S65d_duoQ2duZ0JW_O-BrC4slV0OqymKzdzobkWORoA&dib_tag=se&keywords=body+wash&qid=1727489826&rdc=1&sprefix=Body+%2Caps%2C92&sr=8-5&pageNumber=33\n",
            "Scraping page 34: https://www.amazon.com/Dove-Body-Wash-Pump-Moisture/dp/B00MEDOY2G/ref=sr_1_5?crid=3S099968VXMXA&dib=eyJ2IjoiMSJ9.w9FjOgRJLM0vYdIVImsScUafugbNLSs5DshepgWg8oT-U-iYhsc89jpMVDMGQ0crEEj7joKGCKZCPzcJ4YnVL1YXnfjX9zHmLf7RDM7I9hxOMkUwBb5_dem7Mm1pJKG9atvE48H397MgYFMyfSBF2fRICZJUixqmPsOBhufU3q2KEqoQhKwrkM-UZjsnQfz0DaJgmLAnBYt2ljFEDFf6DPGDztKAGyePD08yjQ0nP0vtKjCWSrk5NT7Wpu6jYB6-W1A-wApfVlXNmWqmvoAIcM_6EUlWeQAq_7YSSSVjkKU.S65d_duoQ2duZ0JW_O-BrC4slV0OqymKzdzobkWORoA&dib_tag=se&keywords=body+wash&qid=1727489826&rdc=1&sprefix=Body+%2Caps%2C92&sr=8-5&pageNumber=34\n",
            "Scraping page 35: https://www.amazon.com/Dove-Body-Wash-Pump-Moisture/dp/B00MEDOY2G/ref=sr_1_5?crid=3S099968VXMXA&dib=eyJ2IjoiMSJ9.w9FjOgRJLM0vYdIVImsScUafugbNLSs5DshepgWg8oT-U-iYhsc89jpMVDMGQ0crEEj7joKGCKZCPzcJ4YnVL1YXnfjX9zHmLf7RDM7I9hxOMkUwBb5_dem7Mm1pJKG9atvE48H397MgYFMyfSBF2fRICZJUixqmPsOBhufU3q2KEqoQhKwrkM-UZjsnQfz0DaJgmLAnBYt2ljFEDFf6DPGDztKAGyePD08yjQ0nP0vtKjCWSrk5NT7Wpu6jYB6-W1A-wApfVlXNmWqmvoAIcM_6EUlWeQAq_7YSSSVjkKU.S65d_duoQ2duZ0JW_O-BrC4slV0OqymKzdzobkWORoA&dib_tag=se&keywords=body+wash&qid=1727489826&rdc=1&sprefix=Body+%2Caps%2C92&sr=8-5&pageNumber=35\n",
            "Scraping page 36: https://www.amazon.com/Dove-Body-Wash-Pump-Moisture/dp/B00MEDOY2G/ref=sr_1_5?crid=3S099968VXMXA&dib=eyJ2IjoiMSJ9.w9FjOgRJLM0vYdIVImsScUafugbNLSs5DshepgWg8oT-U-iYhsc89jpMVDMGQ0crEEj7joKGCKZCPzcJ4YnVL1YXnfjX9zHmLf7RDM7I9hxOMkUwBb5_dem7Mm1pJKG9atvE48H397MgYFMyfSBF2fRICZJUixqmPsOBhufU3q2KEqoQhKwrkM-UZjsnQfz0DaJgmLAnBYt2ljFEDFf6DPGDztKAGyePD08yjQ0nP0vtKjCWSrk5NT7Wpu6jYB6-W1A-wApfVlXNmWqmvoAIcM_6EUlWeQAq_7YSSSVjkKU.S65d_duoQ2duZ0JW_O-BrC4slV0OqymKzdzobkWORoA&dib_tag=se&keywords=body+wash&qid=1727489826&rdc=1&sprefix=Body+%2Caps%2C92&sr=8-5&pageNumber=36\n",
            "Scraping page 37: https://www.amazon.com/Dove-Body-Wash-Pump-Moisture/dp/B00MEDOY2G/ref=sr_1_5?crid=3S099968VXMXA&dib=eyJ2IjoiMSJ9.w9FjOgRJLM0vYdIVImsScUafugbNLSs5DshepgWg8oT-U-iYhsc89jpMVDMGQ0crEEj7joKGCKZCPzcJ4YnVL1YXnfjX9zHmLf7RDM7I9hxOMkUwBb5_dem7Mm1pJKG9atvE48H397MgYFMyfSBF2fRICZJUixqmPsOBhufU3q2KEqoQhKwrkM-UZjsnQfz0DaJgmLAnBYt2ljFEDFf6DPGDztKAGyePD08yjQ0nP0vtKjCWSrk5NT7Wpu6jYB6-W1A-wApfVlXNmWqmvoAIcM_6EUlWeQAq_7YSSSVjkKU.S65d_duoQ2duZ0JW_O-BrC4slV0OqymKzdzobkWORoA&dib_tag=se&keywords=body+wash&qid=1727489826&rdc=1&sprefix=Body+%2Caps%2C92&sr=8-5&pageNumber=37\n",
            "Scraping page 38: https://www.amazon.com/Dove-Body-Wash-Pump-Moisture/dp/B00MEDOY2G/ref=sr_1_5?crid=3S099968VXMXA&dib=eyJ2IjoiMSJ9.w9FjOgRJLM0vYdIVImsScUafugbNLSs5DshepgWg8oT-U-iYhsc89jpMVDMGQ0crEEj7joKGCKZCPzcJ4YnVL1YXnfjX9zHmLf7RDM7I9hxOMkUwBb5_dem7Mm1pJKG9atvE48H397MgYFMyfSBF2fRICZJUixqmPsOBhufU3q2KEqoQhKwrkM-UZjsnQfz0DaJgmLAnBYt2ljFEDFf6DPGDztKAGyePD08yjQ0nP0vtKjCWSrk5NT7Wpu6jYB6-W1A-wApfVlXNmWqmvoAIcM_6EUlWeQAq_7YSSSVjkKU.S65d_duoQ2duZ0JW_O-BrC4slV0OqymKzdzobkWORoA&dib_tag=se&keywords=body+wash&qid=1727489826&rdc=1&sprefix=Body+%2Caps%2C92&sr=8-5&pageNumber=38\n",
            "Scraping page 39: https://www.amazon.com/Dove-Body-Wash-Pump-Moisture/dp/B00MEDOY2G/ref=sr_1_5?crid=3S099968VXMXA&dib=eyJ2IjoiMSJ9.w9FjOgRJLM0vYdIVImsScUafugbNLSs5DshepgWg8oT-U-iYhsc89jpMVDMGQ0crEEj7joKGCKZCPzcJ4YnVL1YXnfjX9zHmLf7RDM7I9hxOMkUwBb5_dem7Mm1pJKG9atvE48H397MgYFMyfSBF2fRICZJUixqmPsOBhufU3q2KEqoQhKwrkM-UZjsnQfz0DaJgmLAnBYt2ljFEDFf6DPGDztKAGyePD08yjQ0nP0vtKjCWSrk5NT7Wpu6jYB6-W1A-wApfVlXNmWqmvoAIcM_6EUlWeQAq_7YSSSVjkKU.S65d_duoQ2duZ0JW_O-BrC4slV0OqymKzdzobkWORoA&dib_tag=se&keywords=body+wash&qid=1727489826&rdc=1&sprefix=Body+%2Caps%2C92&sr=8-5&pageNumber=39\n",
            "Scraping page 40: https://www.amazon.com/Dove-Body-Wash-Pump-Moisture/dp/B00MEDOY2G/ref=sr_1_5?crid=3S099968VXMXA&dib=eyJ2IjoiMSJ9.w9FjOgRJLM0vYdIVImsScUafugbNLSs5DshepgWg8oT-U-iYhsc89jpMVDMGQ0crEEj7joKGCKZCPzcJ4YnVL1YXnfjX9zHmLf7RDM7I9hxOMkUwBb5_dem7Mm1pJKG9atvE48H397MgYFMyfSBF2fRICZJUixqmPsOBhufU3q2KEqoQhKwrkM-UZjsnQfz0DaJgmLAnBYt2ljFEDFf6DPGDztKAGyePD08yjQ0nP0vtKjCWSrk5NT7Wpu6jYB6-W1A-wApfVlXNmWqmvoAIcM_6EUlWeQAq_7YSSSVjkKU.S65d_duoQ2duZ0JW_O-BrC4slV0OqymKzdzobkWORoA&dib_tag=se&keywords=body+wash&qid=1727489826&rdc=1&sprefix=Body+%2Caps%2C92&sr=8-5&pageNumber=40\n",
            "Scraping page 41: https://www.amazon.com/Dove-Body-Wash-Pump-Moisture/dp/B00MEDOY2G/ref=sr_1_5?crid=3S099968VXMXA&dib=eyJ2IjoiMSJ9.w9FjOgRJLM0vYdIVImsScUafugbNLSs5DshepgWg8oT-U-iYhsc89jpMVDMGQ0crEEj7joKGCKZCPzcJ4YnVL1YXnfjX9zHmLf7RDM7I9hxOMkUwBb5_dem7Mm1pJKG9atvE48H397MgYFMyfSBF2fRICZJUixqmPsOBhufU3q2KEqoQhKwrkM-UZjsnQfz0DaJgmLAnBYt2ljFEDFf6DPGDztKAGyePD08yjQ0nP0vtKjCWSrk5NT7Wpu6jYB6-W1A-wApfVlXNmWqmvoAIcM_6EUlWeQAq_7YSSSVjkKU.S65d_duoQ2duZ0JW_O-BrC4slV0OqymKzdzobkWORoA&dib_tag=se&keywords=body+wash&qid=1727489826&rdc=1&sprefix=Body+%2Caps%2C92&sr=8-5&pageNumber=41\n",
            "Scraping page 42: https://www.amazon.com/Dove-Body-Wash-Pump-Moisture/dp/B00MEDOY2G/ref=sr_1_5?crid=3S099968VXMXA&dib=eyJ2IjoiMSJ9.w9FjOgRJLM0vYdIVImsScUafugbNLSs5DshepgWg8oT-U-iYhsc89jpMVDMGQ0crEEj7joKGCKZCPzcJ4YnVL1YXnfjX9zHmLf7RDM7I9hxOMkUwBb5_dem7Mm1pJKG9atvE48H397MgYFMyfSBF2fRICZJUixqmPsOBhufU3q2KEqoQhKwrkM-UZjsnQfz0DaJgmLAnBYt2ljFEDFf6DPGDztKAGyePD08yjQ0nP0vtKjCWSrk5NT7Wpu6jYB6-W1A-wApfVlXNmWqmvoAIcM_6EUlWeQAq_7YSSSVjkKU.S65d_duoQ2duZ0JW_O-BrC4slV0OqymKzdzobkWORoA&dib_tag=se&keywords=body+wash&qid=1727489826&rdc=1&sprefix=Body+%2Caps%2C92&sr=8-5&pageNumber=42\n",
            "Scraping page 43: https://www.amazon.com/Dove-Body-Wash-Pump-Moisture/dp/B00MEDOY2G/ref=sr_1_5?crid=3S099968VXMXA&dib=eyJ2IjoiMSJ9.w9FjOgRJLM0vYdIVImsScUafugbNLSs5DshepgWg8oT-U-iYhsc89jpMVDMGQ0crEEj7joKGCKZCPzcJ4YnVL1YXnfjX9zHmLf7RDM7I9hxOMkUwBb5_dem7Mm1pJKG9atvE48H397MgYFMyfSBF2fRICZJUixqmPsOBhufU3q2KEqoQhKwrkM-UZjsnQfz0DaJgmLAnBYt2ljFEDFf6DPGDztKAGyePD08yjQ0nP0vtKjCWSrk5NT7Wpu6jYB6-W1A-wApfVlXNmWqmvoAIcM_6EUlWeQAq_7YSSSVjkKU.S65d_duoQ2duZ0JW_O-BrC4slV0OqymKzdzobkWORoA&dib_tag=se&keywords=body+wash&qid=1727489826&rdc=1&sprefix=Body+%2Caps%2C92&sr=8-5&pageNumber=43\n",
            "Scraping page 44: https://www.amazon.com/Dove-Body-Wash-Pump-Moisture/dp/B00MEDOY2G/ref=sr_1_5?crid=3S099968VXMXA&dib=eyJ2IjoiMSJ9.w9FjOgRJLM0vYdIVImsScUafugbNLSs5DshepgWg8oT-U-iYhsc89jpMVDMGQ0crEEj7joKGCKZCPzcJ4YnVL1YXnfjX9zHmLf7RDM7I9hxOMkUwBb5_dem7Mm1pJKG9atvE48H397MgYFMyfSBF2fRICZJUixqmPsOBhufU3q2KEqoQhKwrkM-UZjsnQfz0DaJgmLAnBYt2ljFEDFf6DPGDztKAGyePD08yjQ0nP0vtKjCWSrk5NT7Wpu6jYB6-W1A-wApfVlXNmWqmvoAIcM_6EUlWeQAq_7YSSSVjkKU.S65d_duoQ2duZ0JW_O-BrC4slV0OqymKzdzobkWORoA&dib_tag=se&keywords=body+wash&qid=1727489826&rdc=1&sprefix=Body+%2Caps%2C92&sr=8-5&pageNumber=44\n",
            "Scraping page 45: https://www.amazon.com/Dove-Body-Wash-Pump-Moisture/dp/B00MEDOY2G/ref=sr_1_5?crid=3S099968VXMXA&dib=eyJ2IjoiMSJ9.w9FjOgRJLM0vYdIVImsScUafugbNLSs5DshepgWg8oT-U-iYhsc89jpMVDMGQ0crEEj7joKGCKZCPzcJ4YnVL1YXnfjX9zHmLf7RDM7I9hxOMkUwBb5_dem7Mm1pJKG9atvE48H397MgYFMyfSBF2fRICZJUixqmPsOBhufU3q2KEqoQhKwrkM-UZjsnQfz0DaJgmLAnBYt2ljFEDFf6DPGDztKAGyePD08yjQ0nP0vtKjCWSrk5NT7Wpu6jYB6-W1A-wApfVlXNmWqmvoAIcM_6EUlWeQAq_7YSSSVjkKU.S65d_duoQ2duZ0JW_O-BrC4slV0OqymKzdzobkWORoA&dib_tag=se&keywords=body+wash&qid=1727489826&rdc=1&sprefix=Body+%2Caps%2C92&sr=8-5&pageNumber=45\n",
            "Scraping page 46: https://www.amazon.com/Dove-Body-Wash-Pump-Moisture/dp/B00MEDOY2G/ref=sr_1_5?crid=3S099968VXMXA&dib=eyJ2IjoiMSJ9.w9FjOgRJLM0vYdIVImsScUafugbNLSs5DshepgWg8oT-U-iYhsc89jpMVDMGQ0crEEj7joKGCKZCPzcJ4YnVL1YXnfjX9zHmLf7RDM7I9hxOMkUwBb5_dem7Mm1pJKG9atvE48H397MgYFMyfSBF2fRICZJUixqmPsOBhufU3q2KEqoQhKwrkM-UZjsnQfz0DaJgmLAnBYt2ljFEDFf6DPGDztKAGyePD08yjQ0nP0vtKjCWSrk5NT7Wpu6jYB6-W1A-wApfVlXNmWqmvoAIcM_6EUlWeQAq_7YSSSVjkKU.S65d_duoQ2duZ0JW_O-BrC4slV0OqymKzdzobkWORoA&dib_tag=se&keywords=body+wash&qid=1727489826&rdc=1&sprefix=Body+%2Caps%2C92&sr=8-5&pageNumber=46\n",
            "Scraping page 47: https://www.amazon.com/Dove-Body-Wash-Pump-Moisture/dp/B00MEDOY2G/ref=sr_1_5?crid=3S099968VXMXA&dib=eyJ2IjoiMSJ9.w9FjOgRJLM0vYdIVImsScUafugbNLSs5DshepgWg8oT-U-iYhsc89jpMVDMGQ0crEEj7joKGCKZCPzcJ4YnVL1YXnfjX9zHmLf7RDM7I9hxOMkUwBb5_dem7Mm1pJKG9atvE48H397MgYFMyfSBF2fRICZJUixqmPsOBhufU3q2KEqoQhKwrkM-UZjsnQfz0DaJgmLAnBYt2ljFEDFf6DPGDztKAGyePD08yjQ0nP0vtKjCWSrk5NT7Wpu6jYB6-W1A-wApfVlXNmWqmvoAIcM_6EUlWeQAq_7YSSSVjkKU.S65d_duoQ2duZ0JW_O-BrC4slV0OqymKzdzobkWORoA&dib_tag=se&keywords=body+wash&qid=1727489826&rdc=1&sprefix=Body+%2Caps%2C92&sr=8-5&pageNumber=47\n",
            "Scraping page 48: https://www.amazon.com/Dove-Body-Wash-Pump-Moisture/dp/B00MEDOY2G/ref=sr_1_5?crid=3S099968VXMXA&dib=eyJ2IjoiMSJ9.w9FjOgRJLM0vYdIVImsScUafugbNLSs5DshepgWg8oT-U-iYhsc89jpMVDMGQ0crEEj7joKGCKZCPzcJ4YnVL1YXnfjX9zHmLf7RDM7I9hxOMkUwBb5_dem7Mm1pJKG9atvE48H397MgYFMyfSBF2fRICZJUixqmPsOBhufU3q2KEqoQhKwrkM-UZjsnQfz0DaJgmLAnBYt2ljFEDFf6DPGDztKAGyePD08yjQ0nP0vtKjCWSrk5NT7Wpu6jYB6-W1A-wApfVlXNmWqmvoAIcM_6EUlWeQAq_7YSSSVjkKU.S65d_duoQ2duZ0JW_O-BrC4slV0OqymKzdzobkWORoA&dib_tag=se&keywords=body+wash&qid=1727489826&rdc=1&sprefix=Body+%2Caps%2C92&sr=8-5&pageNumber=48\n",
            "Scraping page 49: https://www.amazon.com/Dove-Body-Wash-Pump-Moisture/dp/B00MEDOY2G/ref=sr_1_5?crid=3S099968VXMXA&dib=eyJ2IjoiMSJ9.w9FjOgRJLM0vYdIVImsScUafugbNLSs5DshepgWg8oT-U-iYhsc89jpMVDMGQ0crEEj7joKGCKZCPzcJ4YnVL1YXnfjX9zHmLf7RDM7I9hxOMkUwBb5_dem7Mm1pJKG9atvE48H397MgYFMyfSBF2fRICZJUixqmPsOBhufU3q2KEqoQhKwrkM-UZjsnQfz0DaJgmLAnBYt2ljFEDFf6DPGDztKAGyePD08yjQ0nP0vtKjCWSrk5NT7Wpu6jYB6-W1A-wApfVlXNmWqmvoAIcM_6EUlWeQAq_7YSSSVjkKU.S65d_duoQ2duZ0JW_O-BrC4slV0OqymKzdzobkWORoA&dib_tag=se&keywords=body+wash&qid=1727489826&rdc=1&sprefix=Body+%2Caps%2C92&sr=8-5&pageNumber=49\n",
            "Scraping page 50: https://www.amazon.com/Dove-Body-Wash-Pump-Moisture/dp/B00MEDOY2G/ref=sr_1_5?crid=3S099968VXMXA&dib=eyJ2IjoiMSJ9.w9FjOgRJLM0vYdIVImsScUafugbNLSs5DshepgWg8oT-U-iYhsc89jpMVDMGQ0crEEj7joKGCKZCPzcJ4YnVL1YXnfjX9zHmLf7RDM7I9hxOMkUwBb5_dem7Mm1pJKG9atvE48H397MgYFMyfSBF2fRICZJUixqmPsOBhufU3q2KEqoQhKwrkM-UZjsnQfz0DaJgmLAnBYt2ljFEDFf6DPGDztKAGyePD08yjQ0nP0vtKjCWSrk5NT7Wpu6jYB6-W1A-wApfVlXNmWqmvoAIcM_6EUlWeQAq_7YSSSVjkKU.S65d_duoQ2duZ0JW_O-BrC4slV0OqymKzdzobkWORoA&dib_tag=se&keywords=body+wash&qid=1727489826&rdc=1&sprefix=Body+%2Caps%2C92&sr=8-5&pageNumber=50\n",
            "Scraping page 51: https://www.amazon.com/Dove-Body-Wash-Pump-Moisture/dp/B00MEDOY2G/ref=sr_1_5?crid=3S099968VXMXA&dib=eyJ2IjoiMSJ9.w9FjOgRJLM0vYdIVImsScUafugbNLSs5DshepgWg8oT-U-iYhsc89jpMVDMGQ0crEEj7joKGCKZCPzcJ4YnVL1YXnfjX9zHmLf7RDM7I9hxOMkUwBb5_dem7Mm1pJKG9atvE48H397MgYFMyfSBF2fRICZJUixqmPsOBhufU3q2KEqoQhKwrkM-UZjsnQfz0DaJgmLAnBYt2ljFEDFf6DPGDztKAGyePD08yjQ0nP0vtKjCWSrk5NT7Wpu6jYB6-W1A-wApfVlXNmWqmvoAIcM_6EUlWeQAq_7YSSSVjkKU.S65d_duoQ2duZ0JW_O-BrC4slV0OqymKzdzobkWORoA&dib_tag=se&keywords=body+wash&qid=1727489826&rdc=1&sprefix=Body+%2Caps%2C92&sr=8-5&pageNumber=51\n",
            "Scraping page 52: https://www.amazon.com/Dove-Body-Wash-Pump-Moisture/dp/B00MEDOY2G/ref=sr_1_5?crid=3S099968VXMXA&dib=eyJ2IjoiMSJ9.w9FjOgRJLM0vYdIVImsScUafugbNLSs5DshepgWg8oT-U-iYhsc89jpMVDMGQ0crEEj7joKGCKZCPzcJ4YnVL1YXnfjX9zHmLf7RDM7I9hxOMkUwBb5_dem7Mm1pJKG9atvE48H397MgYFMyfSBF2fRICZJUixqmPsOBhufU3q2KEqoQhKwrkM-UZjsnQfz0DaJgmLAnBYt2ljFEDFf6DPGDztKAGyePD08yjQ0nP0vtKjCWSrk5NT7Wpu6jYB6-W1A-wApfVlXNmWqmvoAIcM_6EUlWeQAq_7YSSSVjkKU.S65d_duoQ2duZ0JW_O-BrC4slV0OqymKzdzobkWORoA&dib_tag=se&keywords=body+wash&qid=1727489826&rdc=1&sprefix=Body+%2Caps%2C92&sr=8-5&pageNumber=52\n",
            "Scraping page 53: https://www.amazon.com/Dove-Body-Wash-Pump-Moisture/dp/B00MEDOY2G/ref=sr_1_5?crid=3S099968VXMXA&dib=eyJ2IjoiMSJ9.w9FjOgRJLM0vYdIVImsScUafugbNLSs5DshepgWg8oT-U-iYhsc89jpMVDMGQ0crEEj7joKGCKZCPzcJ4YnVL1YXnfjX9zHmLf7RDM7I9hxOMkUwBb5_dem7Mm1pJKG9atvE48H397MgYFMyfSBF2fRICZJUixqmPsOBhufU3q2KEqoQhKwrkM-UZjsnQfz0DaJgmLAnBYt2ljFEDFf6DPGDztKAGyePD08yjQ0nP0vtKjCWSrk5NT7Wpu6jYB6-W1A-wApfVlXNmWqmvoAIcM_6EUlWeQAq_7YSSSVjkKU.S65d_duoQ2duZ0JW_O-BrC4slV0OqymKzdzobkWORoA&dib_tag=se&keywords=body+wash&qid=1727489826&rdc=1&sprefix=Body+%2Caps%2C92&sr=8-5&pageNumber=53\n",
            "Scraping page 54: https://www.amazon.com/Dove-Body-Wash-Pump-Moisture/dp/B00MEDOY2G/ref=sr_1_5?crid=3S099968VXMXA&dib=eyJ2IjoiMSJ9.w9FjOgRJLM0vYdIVImsScUafugbNLSs5DshepgWg8oT-U-iYhsc89jpMVDMGQ0crEEj7joKGCKZCPzcJ4YnVL1YXnfjX9zHmLf7RDM7I9hxOMkUwBb5_dem7Mm1pJKG9atvE48H397MgYFMyfSBF2fRICZJUixqmPsOBhufU3q2KEqoQhKwrkM-UZjsnQfz0DaJgmLAnBYt2ljFEDFf6DPGDztKAGyePD08yjQ0nP0vtKjCWSrk5NT7Wpu6jYB6-W1A-wApfVlXNmWqmvoAIcM_6EUlWeQAq_7YSSSVjkKU.S65d_duoQ2duZ0JW_O-BrC4slV0OqymKzdzobkWORoA&dib_tag=se&keywords=body+wash&qid=1727489826&rdc=1&sprefix=Body+%2Caps%2C92&sr=8-5&pageNumber=54\n",
            "Scraping page 55: https://www.amazon.com/Dove-Body-Wash-Pump-Moisture/dp/B00MEDOY2G/ref=sr_1_5?crid=3S099968VXMXA&dib=eyJ2IjoiMSJ9.w9FjOgRJLM0vYdIVImsScUafugbNLSs5DshepgWg8oT-U-iYhsc89jpMVDMGQ0crEEj7joKGCKZCPzcJ4YnVL1YXnfjX9zHmLf7RDM7I9hxOMkUwBb5_dem7Mm1pJKG9atvE48H397MgYFMyfSBF2fRICZJUixqmPsOBhufU3q2KEqoQhKwrkM-UZjsnQfz0DaJgmLAnBYt2ljFEDFf6DPGDztKAGyePD08yjQ0nP0vtKjCWSrk5NT7Wpu6jYB6-W1A-wApfVlXNmWqmvoAIcM_6EUlWeQAq_7YSSSVjkKU.S65d_duoQ2duZ0JW_O-BrC4slV0OqymKzdzobkWORoA&dib_tag=se&keywords=body+wash&qid=1727489826&rdc=1&sprefix=Body+%2Caps%2C92&sr=8-5&pageNumber=55\n",
            "Scraping page 56: https://www.amazon.com/Dove-Body-Wash-Pump-Moisture/dp/B00MEDOY2G/ref=sr_1_5?crid=3S099968VXMXA&dib=eyJ2IjoiMSJ9.w9FjOgRJLM0vYdIVImsScUafugbNLSs5DshepgWg8oT-U-iYhsc89jpMVDMGQ0crEEj7joKGCKZCPzcJ4YnVL1YXnfjX9zHmLf7RDM7I9hxOMkUwBb5_dem7Mm1pJKG9atvE48H397MgYFMyfSBF2fRICZJUixqmPsOBhufU3q2KEqoQhKwrkM-UZjsnQfz0DaJgmLAnBYt2ljFEDFf6DPGDztKAGyePD08yjQ0nP0vtKjCWSrk5NT7Wpu6jYB6-W1A-wApfVlXNmWqmvoAIcM_6EUlWeQAq_7YSSSVjkKU.S65d_duoQ2duZ0JW_O-BrC4slV0OqymKzdzobkWORoA&dib_tag=se&keywords=body+wash&qid=1727489826&rdc=1&sprefix=Body+%2Caps%2C92&sr=8-5&pageNumber=56\n",
            "Scraping page 57: https://www.amazon.com/Dove-Body-Wash-Pump-Moisture/dp/B00MEDOY2G/ref=sr_1_5?crid=3S099968VXMXA&dib=eyJ2IjoiMSJ9.w9FjOgRJLM0vYdIVImsScUafugbNLSs5DshepgWg8oT-U-iYhsc89jpMVDMGQ0crEEj7joKGCKZCPzcJ4YnVL1YXnfjX9zHmLf7RDM7I9hxOMkUwBb5_dem7Mm1pJKG9atvE48H397MgYFMyfSBF2fRICZJUixqmPsOBhufU3q2KEqoQhKwrkM-UZjsnQfz0DaJgmLAnBYt2ljFEDFf6DPGDztKAGyePD08yjQ0nP0vtKjCWSrk5NT7Wpu6jYB6-W1A-wApfVlXNmWqmvoAIcM_6EUlWeQAq_7YSSSVjkKU.S65d_duoQ2duZ0JW_O-BrC4slV0OqymKzdzobkWORoA&dib_tag=se&keywords=body+wash&qid=1727489826&rdc=1&sprefix=Body+%2Caps%2C92&sr=8-5&pageNumber=57\n",
            "Scraping page 58: https://www.amazon.com/Dove-Body-Wash-Pump-Moisture/dp/B00MEDOY2G/ref=sr_1_5?crid=3S099968VXMXA&dib=eyJ2IjoiMSJ9.w9FjOgRJLM0vYdIVImsScUafugbNLSs5DshepgWg8oT-U-iYhsc89jpMVDMGQ0crEEj7joKGCKZCPzcJ4YnVL1YXnfjX9zHmLf7RDM7I9hxOMkUwBb5_dem7Mm1pJKG9atvE48H397MgYFMyfSBF2fRICZJUixqmPsOBhufU3q2KEqoQhKwrkM-UZjsnQfz0DaJgmLAnBYt2ljFEDFf6DPGDztKAGyePD08yjQ0nP0vtKjCWSrk5NT7Wpu6jYB6-W1A-wApfVlXNmWqmvoAIcM_6EUlWeQAq_7YSSSVjkKU.S65d_duoQ2duZ0JW_O-BrC4slV0OqymKzdzobkWORoA&dib_tag=se&keywords=body+wash&qid=1727489826&rdc=1&sprefix=Body+%2Caps%2C92&sr=8-5&pageNumber=58\n",
            "Scraping page 59: https://www.amazon.com/Dove-Body-Wash-Pump-Moisture/dp/B00MEDOY2G/ref=sr_1_5?crid=3S099968VXMXA&dib=eyJ2IjoiMSJ9.w9FjOgRJLM0vYdIVImsScUafugbNLSs5DshepgWg8oT-U-iYhsc89jpMVDMGQ0crEEj7joKGCKZCPzcJ4YnVL1YXnfjX9zHmLf7RDM7I9hxOMkUwBb5_dem7Mm1pJKG9atvE48H397MgYFMyfSBF2fRICZJUixqmPsOBhufU3q2KEqoQhKwrkM-UZjsnQfz0DaJgmLAnBYt2ljFEDFf6DPGDztKAGyePD08yjQ0nP0vtKjCWSrk5NT7Wpu6jYB6-W1A-wApfVlXNmWqmvoAIcM_6EUlWeQAq_7YSSSVjkKU.S65d_duoQ2duZ0JW_O-BrC4slV0OqymKzdzobkWORoA&dib_tag=se&keywords=body+wash&qid=1727489826&rdc=1&sprefix=Body+%2Caps%2C92&sr=8-5&pageNumber=59\n",
            "Scraping page 60: https://www.amazon.com/Dove-Body-Wash-Pump-Moisture/dp/B00MEDOY2G/ref=sr_1_5?crid=3S099968VXMXA&dib=eyJ2IjoiMSJ9.w9FjOgRJLM0vYdIVImsScUafugbNLSs5DshepgWg8oT-U-iYhsc89jpMVDMGQ0crEEj7joKGCKZCPzcJ4YnVL1YXnfjX9zHmLf7RDM7I9hxOMkUwBb5_dem7Mm1pJKG9atvE48H397MgYFMyfSBF2fRICZJUixqmPsOBhufU3q2KEqoQhKwrkM-UZjsnQfz0DaJgmLAnBYt2ljFEDFf6DPGDztKAGyePD08yjQ0nP0vtKjCWSrk5NT7Wpu6jYB6-W1A-wApfVlXNmWqmvoAIcM_6EUlWeQAq_7YSSSVjkKU.S65d_duoQ2duZ0JW_O-BrC4slV0OqymKzdzobkWORoA&dib_tag=se&keywords=body+wash&qid=1727489826&rdc=1&sprefix=Body+%2Caps%2C92&sr=8-5&pageNumber=60\n",
            "Scraping page 61: https://www.amazon.com/Dove-Body-Wash-Pump-Moisture/dp/B00MEDOY2G/ref=sr_1_5?crid=3S099968VXMXA&dib=eyJ2IjoiMSJ9.w9FjOgRJLM0vYdIVImsScUafugbNLSs5DshepgWg8oT-U-iYhsc89jpMVDMGQ0crEEj7joKGCKZCPzcJ4YnVL1YXnfjX9zHmLf7RDM7I9hxOMkUwBb5_dem7Mm1pJKG9atvE48H397MgYFMyfSBF2fRICZJUixqmPsOBhufU3q2KEqoQhKwrkM-UZjsnQfz0DaJgmLAnBYt2ljFEDFf6DPGDztKAGyePD08yjQ0nP0vtKjCWSrk5NT7Wpu6jYB6-W1A-wApfVlXNmWqmvoAIcM_6EUlWeQAq_7YSSSVjkKU.S65d_duoQ2duZ0JW_O-BrC4slV0OqymKzdzobkWORoA&dib_tag=se&keywords=body+wash&qid=1727489826&rdc=1&sprefix=Body+%2Caps%2C92&sr=8-5&pageNumber=61\n",
            "Scraping page 62: https://www.amazon.com/Dove-Body-Wash-Pump-Moisture/dp/B00MEDOY2G/ref=sr_1_5?crid=3S099968VXMXA&dib=eyJ2IjoiMSJ9.w9FjOgRJLM0vYdIVImsScUafugbNLSs5DshepgWg8oT-U-iYhsc89jpMVDMGQ0crEEj7joKGCKZCPzcJ4YnVL1YXnfjX9zHmLf7RDM7I9hxOMkUwBb5_dem7Mm1pJKG9atvE48H397MgYFMyfSBF2fRICZJUixqmPsOBhufU3q2KEqoQhKwrkM-UZjsnQfz0DaJgmLAnBYt2ljFEDFf6DPGDztKAGyePD08yjQ0nP0vtKjCWSrk5NT7Wpu6jYB6-W1A-wApfVlXNmWqmvoAIcM_6EUlWeQAq_7YSSSVjkKU.S65d_duoQ2duZ0JW_O-BrC4slV0OqymKzdzobkWORoA&dib_tag=se&keywords=body+wash&qid=1727489826&rdc=1&sprefix=Body+%2Caps%2C92&sr=8-5&pageNumber=62\n",
            "Scraping page 63: https://www.amazon.com/Dove-Body-Wash-Pump-Moisture/dp/B00MEDOY2G/ref=sr_1_5?crid=3S099968VXMXA&dib=eyJ2IjoiMSJ9.w9FjOgRJLM0vYdIVImsScUafugbNLSs5DshepgWg8oT-U-iYhsc89jpMVDMGQ0crEEj7joKGCKZCPzcJ4YnVL1YXnfjX9zHmLf7RDM7I9hxOMkUwBb5_dem7Mm1pJKG9atvE48H397MgYFMyfSBF2fRICZJUixqmPsOBhufU3q2KEqoQhKwrkM-UZjsnQfz0DaJgmLAnBYt2ljFEDFf6DPGDztKAGyePD08yjQ0nP0vtKjCWSrk5NT7Wpu6jYB6-W1A-wApfVlXNmWqmvoAIcM_6EUlWeQAq_7YSSSVjkKU.S65d_duoQ2duZ0JW_O-BrC4slV0OqymKzdzobkWORoA&dib_tag=se&keywords=body+wash&qid=1727489826&rdc=1&sprefix=Body+%2Caps%2C92&sr=8-5&pageNumber=63\n",
            "Scraping page 64: https://www.amazon.com/Dove-Body-Wash-Pump-Moisture/dp/B00MEDOY2G/ref=sr_1_5?crid=3S099968VXMXA&dib=eyJ2IjoiMSJ9.w9FjOgRJLM0vYdIVImsScUafugbNLSs5DshepgWg8oT-U-iYhsc89jpMVDMGQ0crEEj7joKGCKZCPzcJ4YnVL1YXnfjX9zHmLf7RDM7I9hxOMkUwBb5_dem7Mm1pJKG9atvE48H397MgYFMyfSBF2fRICZJUixqmPsOBhufU3q2KEqoQhKwrkM-UZjsnQfz0DaJgmLAnBYt2ljFEDFf6DPGDztKAGyePD08yjQ0nP0vtKjCWSrk5NT7Wpu6jYB6-W1A-wApfVlXNmWqmvoAIcM_6EUlWeQAq_7YSSSVjkKU.S65d_duoQ2duZ0JW_O-BrC4slV0OqymKzdzobkWORoA&dib_tag=se&keywords=body+wash&qid=1727489826&rdc=1&sprefix=Body+%2Caps%2C92&sr=8-5&pageNumber=64\n",
            "Scraping page 65: https://www.amazon.com/Dove-Body-Wash-Pump-Moisture/dp/B00MEDOY2G/ref=sr_1_5?crid=3S099968VXMXA&dib=eyJ2IjoiMSJ9.w9FjOgRJLM0vYdIVImsScUafugbNLSs5DshepgWg8oT-U-iYhsc89jpMVDMGQ0crEEj7joKGCKZCPzcJ4YnVL1YXnfjX9zHmLf7RDM7I9hxOMkUwBb5_dem7Mm1pJKG9atvE48H397MgYFMyfSBF2fRICZJUixqmPsOBhufU3q2KEqoQhKwrkM-UZjsnQfz0DaJgmLAnBYt2ljFEDFf6DPGDztKAGyePD08yjQ0nP0vtKjCWSrk5NT7Wpu6jYB6-W1A-wApfVlXNmWqmvoAIcM_6EUlWeQAq_7YSSSVjkKU.S65d_duoQ2duZ0JW_O-BrC4slV0OqymKzdzobkWORoA&dib_tag=se&keywords=body+wash&qid=1727489826&rdc=1&sprefix=Body+%2Caps%2C92&sr=8-5&pageNumber=65\n",
            "Scraping page 66: https://www.amazon.com/Dove-Body-Wash-Pump-Moisture/dp/B00MEDOY2G/ref=sr_1_5?crid=3S099968VXMXA&dib=eyJ2IjoiMSJ9.w9FjOgRJLM0vYdIVImsScUafugbNLSs5DshepgWg8oT-U-iYhsc89jpMVDMGQ0crEEj7joKGCKZCPzcJ4YnVL1YXnfjX9zHmLf7RDM7I9hxOMkUwBb5_dem7Mm1pJKG9atvE48H397MgYFMyfSBF2fRICZJUixqmPsOBhufU3q2KEqoQhKwrkM-UZjsnQfz0DaJgmLAnBYt2ljFEDFf6DPGDztKAGyePD08yjQ0nP0vtKjCWSrk5NT7Wpu6jYB6-W1A-wApfVlXNmWqmvoAIcM_6EUlWeQAq_7YSSSVjkKU.S65d_duoQ2duZ0JW_O-BrC4slV0OqymKzdzobkWORoA&dib_tag=se&keywords=body+wash&qid=1727489826&rdc=1&sprefix=Body+%2Caps%2C92&sr=8-5&pageNumber=66\n",
            "Scraping page 67: https://www.amazon.com/Dove-Body-Wash-Pump-Moisture/dp/B00MEDOY2G/ref=sr_1_5?crid=3S099968VXMXA&dib=eyJ2IjoiMSJ9.w9FjOgRJLM0vYdIVImsScUafugbNLSs5DshepgWg8oT-U-iYhsc89jpMVDMGQ0crEEj7joKGCKZCPzcJ4YnVL1YXnfjX9zHmLf7RDM7I9hxOMkUwBb5_dem7Mm1pJKG9atvE48H397MgYFMyfSBF2fRICZJUixqmPsOBhufU3q2KEqoQhKwrkM-UZjsnQfz0DaJgmLAnBYt2ljFEDFf6DPGDztKAGyePD08yjQ0nP0vtKjCWSrk5NT7Wpu6jYB6-W1A-wApfVlXNmWqmvoAIcM_6EUlWeQAq_7YSSSVjkKU.S65d_duoQ2duZ0JW_O-BrC4slV0OqymKzdzobkWORoA&dib_tag=se&keywords=body+wash&qid=1727489826&rdc=1&sprefix=Body+%2Caps%2C92&sr=8-5&pageNumber=67\n",
            "Scraping page 68: https://www.amazon.com/Dove-Body-Wash-Pump-Moisture/dp/B00MEDOY2G/ref=sr_1_5?crid=3S099968VXMXA&dib=eyJ2IjoiMSJ9.w9FjOgRJLM0vYdIVImsScUafugbNLSs5DshepgWg8oT-U-iYhsc89jpMVDMGQ0crEEj7joKGCKZCPzcJ4YnVL1YXnfjX9zHmLf7RDM7I9hxOMkUwBb5_dem7Mm1pJKG9atvE48H397MgYFMyfSBF2fRICZJUixqmPsOBhufU3q2KEqoQhKwrkM-UZjsnQfz0DaJgmLAnBYt2ljFEDFf6DPGDztKAGyePD08yjQ0nP0vtKjCWSrk5NT7Wpu6jYB6-W1A-wApfVlXNmWqmvoAIcM_6EUlWeQAq_7YSSSVjkKU.S65d_duoQ2duZ0JW_O-BrC4slV0OqymKzdzobkWORoA&dib_tag=se&keywords=body+wash&qid=1727489826&rdc=1&sprefix=Body+%2Caps%2C92&sr=8-5&pageNumber=68\n",
            "Scraping page 69: https://www.amazon.com/Dove-Body-Wash-Pump-Moisture/dp/B00MEDOY2G/ref=sr_1_5?crid=3S099968VXMXA&dib=eyJ2IjoiMSJ9.w9FjOgRJLM0vYdIVImsScUafugbNLSs5DshepgWg8oT-U-iYhsc89jpMVDMGQ0crEEj7joKGCKZCPzcJ4YnVL1YXnfjX9zHmLf7RDM7I9hxOMkUwBb5_dem7Mm1pJKG9atvE48H397MgYFMyfSBF2fRICZJUixqmPsOBhufU3q2KEqoQhKwrkM-UZjsnQfz0DaJgmLAnBYt2ljFEDFf6DPGDztKAGyePD08yjQ0nP0vtKjCWSrk5NT7Wpu6jYB6-W1A-wApfVlXNmWqmvoAIcM_6EUlWeQAq_7YSSSVjkKU.S65d_duoQ2duZ0JW_O-BrC4slV0OqymKzdzobkWORoA&dib_tag=se&keywords=body+wash&qid=1727489826&rdc=1&sprefix=Body+%2Caps%2C92&sr=8-5&pageNumber=69\n",
            "Scraping page 70: https://www.amazon.com/Dove-Body-Wash-Pump-Moisture/dp/B00MEDOY2G/ref=sr_1_5?crid=3S099968VXMXA&dib=eyJ2IjoiMSJ9.w9FjOgRJLM0vYdIVImsScUafugbNLSs5DshepgWg8oT-U-iYhsc89jpMVDMGQ0crEEj7joKGCKZCPzcJ4YnVL1YXnfjX9zHmLf7RDM7I9hxOMkUwBb5_dem7Mm1pJKG9atvE48H397MgYFMyfSBF2fRICZJUixqmPsOBhufU3q2KEqoQhKwrkM-UZjsnQfz0DaJgmLAnBYt2ljFEDFf6DPGDztKAGyePD08yjQ0nP0vtKjCWSrk5NT7Wpu6jYB6-W1A-wApfVlXNmWqmvoAIcM_6EUlWeQAq_7YSSSVjkKU.S65d_duoQ2duZ0JW_O-BrC4slV0OqymKzdzobkWORoA&dib_tag=se&keywords=body+wash&qid=1727489826&rdc=1&sprefix=Body+%2Caps%2C92&sr=8-5&pageNumber=70\n",
            "Scraping page 71: https://www.amazon.com/Dove-Body-Wash-Pump-Moisture/dp/B00MEDOY2G/ref=sr_1_5?crid=3S099968VXMXA&dib=eyJ2IjoiMSJ9.w9FjOgRJLM0vYdIVImsScUafugbNLSs5DshepgWg8oT-U-iYhsc89jpMVDMGQ0crEEj7joKGCKZCPzcJ4YnVL1YXnfjX9zHmLf7RDM7I9hxOMkUwBb5_dem7Mm1pJKG9atvE48H397MgYFMyfSBF2fRICZJUixqmPsOBhufU3q2KEqoQhKwrkM-UZjsnQfz0DaJgmLAnBYt2ljFEDFf6DPGDztKAGyePD08yjQ0nP0vtKjCWSrk5NT7Wpu6jYB6-W1A-wApfVlXNmWqmvoAIcM_6EUlWeQAq_7YSSSVjkKU.S65d_duoQ2duZ0JW_O-BrC4slV0OqymKzdzobkWORoA&dib_tag=se&keywords=body+wash&qid=1727489826&rdc=1&sprefix=Body+%2Caps%2C92&sr=8-5&pageNumber=71\n",
            "Scraping page 72: https://www.amazon.com/Dove-Body-Wash-Pump-Moisture/dp/B00MEDOY2G/ref=sr_1_5?crid=3S099968VXMXA&dib=eyJ2IjoiMSJ9.w9FjOgRJLM0vYdIVImsScUafugbNLSs5DshepgWg8oT-U-iYhsc89jpMVDMGQ0crEEj7joKGCKZCPzcJ4YnVL1YXnfjX9zHmLf7RDM7I9hxOMkUwBb5_dem7Mm1pJKG9atvE48H397MgYFMyfSBF2fRICZJUixqmPsOBhufU3q2KEqoQhKwrkM-UZjsnQfz0DaJgmLAnBYt2ljFEDFf6DPGDztKAGyePD08yjQ0nP0vtKjCWSrk5NT7Wpu6jYB6-W1A-wApfVlXNmWqmvoAIcM_6EUlWeQAq_7YSSSVjkKU.S65d_duoQ2duZ0JW_O-BrC4slV0OqymKzdzobkWORoA&dib_tag=se&keywords=body+wash&qid=1727489826&rdc=1&sprefix=Body+%2Caps%2C92&sr=8-5&pageNumber=72\n",
            "Scraping page 73: https://www.amazon.com/Dove-Body-Wash-Pump-Moisture/dp/B00MEDOY2G/ref=sr_1_5?crid=3S099968VXMXA&dib=eyJ2IjoiMSJ9.w9FjOgRJLM0vYdIVImsScUafugbNLSs5DshepgWg8oT-U-iYhsc89jpMVDMGQ0crEEj7joKGCKZCPzcJ4YnVL1YXnfjX9zHmLf7RDM7I9hxOMkUwBb5_dem7Mm1pJKG9atvE48H397MgYFMyfSBF2fRICZJUixqmPsOBhufU3q2KEqoQhKwrkM-UZjsnQfz0DaJgmLAnBYt2ljFEDFf6DPGDztKAGyePD08yjQ0nP0vtKjCWSrk5NT7Wpu6jYB6-W1A-wApfVlXNmWqmvoAIcM_6EUlWeQAq_7YSSSVjkKU.S65d_duoQ2duZ0JW_O-BrC4slV0OqymKzdzobkWORoA&dib_tag=se&keywords=body+wash&qid=1727489826&rdc=1&sprefix=Body+%2Caps%2C92&sr=8-5&pageNumber=73\n",
            "Scraping page 74: https://www.amazon.com/Dove-Body-Wash-Pump-Moisture/dp/B00MEDOY2G/ref=sr_1_5?crid=3S099968VXMXA&dib=eyJ2IjoiMSJ9.w9FjOgRJLM0vYdIVImsScUafugbNLSs5DshepgWg8oT-U-iYhsc89jpMVDMGQ0crEEj7joKGCKZCPzcJ4YnVL1YXnfjX9zHmLf7RDM7I9hxOMkUwBb5_dem7Mm1pJKG9atvE48H397MgYFMyfSBF2fRICZJUixqmPsOBhufU3q2KEqoQhKwrkM-UZjsnQfz0DaJgmLAnBYt2ljFEDFf6DPGDztKAGyePD08yjQ0nP0vtKjCWSrk5NT7Wpu6jYB6-W1A-wApfVlXNmWqmvoAIcM_6EUlWeQAq_7YSSSVjkKU.S65d_duoQ2duZ0JW_O-BrC4slV0OqymKzdzobkWORoA&dib_tag=se&keywords=body+wash&qid=1727489826&rdc=1&sprefix=Body+%2Caps%2C92&sr=8-5&pageNumber=74\n",
            "Scraping page 75: https://www.amazon.com/Dove-Body-Wash-Pump-Moisture/dp/B00MEDOY2G/ref=sr_1_5?crid=3S099968VXMXA&dib=eyJ2IjoiMSJ9.w9FjOgRJLM0vYdIVImsScUafugbNLSs5DshepgWg8oT-U-iYhsc89jpMVDMGQ0crEEj7joKGCKZCPzcJ4YnVL1YXnfjX9zHmLf7RDM7I9hxOMkUwBb5_dem7Mm1pJKG9atvE48H397MgYFMyfSBF2fRICZJUixqmPsOBhufU3q2KEqoQhKwrkM-UZjsnQfz0DaJgmLAnBYt2ljFEDFf6DPGDztKAGyePD08yjQ0nP0vtKjCWSrk5NT7Wpu6jYB6-W1A-wApfVlXNmWqmvoAIcM_6EUlWeQAq_7YSSSVjkKU.S65d_duoQ2duZ0JW_O-BrC4slV0OqymKzdzobkWORoA&dib_tag=se&keywords=body+wash&qid=1727489826&rdc=1&sprefix=Body+%2Caps%2C92&sr=8-5&pageNumber=75\n",
            "Scraping page 76: https://www.amazon.com/Dove-Body-Wash-Pump-Moisture/dp/B00MEDOY2G/ref=sr_1_5?crid=3S099968VXMXA&dib=eyJ2IjoiMSJ9.w9FjOgRJLM0vYdIVImsScUafugbNLSs5DshepgWg8oT-U-iYhsc89jpMVDMGQ0crEEj7joKGCKZCPzcJ4YnVL1YXnfjX9zHmLf7RDM7I9hxOMkUwBb5_dem7Mm1pJKG9atvE48H397MgYFMyfSBF2fRICZJUixqmPsOBhufU3q2KEqoQhKwrkM-UZjsnQfz0DaJgmLAnBYt2ljFEDFf6DPGDztKAGyePD08yjQ0nP0vtKjCWSrk5NT7Wpu6jYB6-W1A-wApfVlXNmWqmvoAIcM_6EUlWeQAq_7YSSSVjkKU.S65d_duoQ2duZ0JW_O-BrC4slV0OqymKzdzobkWORoA&dib_tag=se&keywords=body+wash&qid=1727489826&rdc=1&sprefix=Body+%2Caps%2C92&sr=8-5&pageNumber=76\n",
            "Scraping page 77: https://www.amazon.com/Dove-Body-Wash-Pump-Moisture/dp/B00MEDOY2G/ref=sr_1_5?crid=3S099968VXMXA&dib=eyJ2IjoiMSJ9.w9FjOgRJLM0vYdIVImsScUafugbNLSs5DshepgWg8oT-U-iYhsc89jpMVDMGQ0crEEj7joKGCKZCPzcJ4YnVL1YXnfjX9zHmLf7RDM7I9hxOMkUwBb5_dem7Mm1pJKG9atvE48H397MgYFMyfSBF2fRICZJUixqmPsOBhufU3q2KEqoQhKwrkM-UZjsnQfz0DaJgmLAnBYt2ljFEDFf6DPGDztKAGyePD08yjQ0nP0vtKjCWSrk5NT7Wpu6jYB6-W1A-wApfVlXNmWqmvoAIcM_6EUlWeQAq_7YSSSVjkKU.S65d_duoQ2duZ0JW_O-BrC4slV0OqymKzdzobkWORoA&dib_tag=se&keywords=body+wash&qid=1727489826&rdc=1&sprefix=Body+%2Caps%2C92&sr=8-5&pageNumber=77\n",
            "Scraping page 78: https://www.amazon.com/Dove-Body-Wash-Pump-Moisture/dp/B00MEDOY2G/ref=sr_1_5?crid=3S099968VXMXA&dib=eyJ2IjoiMSJ9.w9FjOgRJLM0vYdIVImsScUafugbNLSs5DshepgWg8oT-U-iYhsc89jpMVDMGQ0crEEj7joKGCKZCPzcJ4YnVL1YXnfjX9zHmLf7RDM7I9hxOMkUwBb5_dem7Mm1pJKG9atvE48H397MgYFMyfSBF2fRICZJUixqmPsOBhufU3q2KEqoQhKwrkM-UZjsnQfz0DaJgmLAnBYt2ljFEDFf6DPGDztKAGyePD08yjQ0nP0vtKjCWSrk5NT7Wpu6jYB6-W1A-wApfVlXNmWqmvoAIcM_6EUlWeQAq_7YSSSVjkKU.S65d_duoQ2duZ0JW_O-BrC4slV0OqymKzdzobkWORoA&dib_tag=se&keywords=body+wash&qid=1727489826&rdc=1&sprefix=Body+%2Caps%2C92&sr=8-5&pageNumber=78\n",
            "Scraping page 79: https://www.amazon.com/Dove-Body-Wash-Pump-Moisture/dp/B00MEDOY2G/ref=sr_1_5?crid=3S099968VXMXA&dib=eyJ2IjoiMSJ9.w9FjOgRJLM0vYdIVImsScUafugbNLSs5DshepgWg8oT-U-iYhsc89jpMVDMGQ0crEEj7joKGCKZCPzcJ4YnVL1YXnfjX9zHmLf7RDM7I9hxOMkUwBb5_dem7Mm1pJKG9atvE48H397MgYFMyfSBF2fRICZJUixqmPsOBhufU3q2KEqoQhKwrkM-UZjsnQfz0DaJgmLAnBYt2ljFEDFf6DPGDztKAGyePD08yjQ0nP0vtKjCWSrk5NT7Wpu6jYB6-W1A-wApfVlXNmWqmvoAIcM_6EUlWeQAq_7YSSSVjkKU.S65d_duoQ2duZ0JW_O-BrC4slV0OqymKzdzobkWORoA&dib_tag=se&keywords=body+wash&qid=1727489826&rdc=1&sprefix=Body+%2Caps%2C92&sr=8-5&pageNumber=79\n",
            "Scraping page 80: https://www.amazon.com/Dove-Body-Wash-Pump-Moisture/dp/B00MEDOY2G/ref=sr_1_5?crid=3S099968VXMXA&dib=eyJ2IjoiMSJ9.w9FjOgRJLM0vYdIVImsScUafugbNLSs5DshepgWg8oT-U-iYhsc89jpMVDMGQ0crEEj7joKGCKZCPzcJ4YnVL1YXnfjX9zHmLf7RDM7I9hxOMkUwBb5_dem7Mm1pJKG9atvE48H397MgYFMyfSBF2fRICZJUixqmPsOBhufU3q2KEqoQhKwrkM-UZjsnQfz0DaJgmLAnBYt2ljFEDFf6DPGDztKAGyePD08yjQ0nP0vtKjCWSrk5NT7Wpu6jYB6-W1A-wApfVlXNmWqmvoAIcM_6EUlWeQAq_7YSSSVjkKU.S65d_duoQ2duZ0JW_O-BrC4slV0OqymKzdzobkWORoA&dib_tag=se&keywords=body+wash&qid=1727489826&rdc=1&sprefix=Body+%2Caps%2C92&sr=8-5&pageNumber=80\n",
            "Scraping page 81: https://www.amazon.com/Dove-Body-Wash-Pump-Moisture/dp/B00MEDOY2G/ref=sr_1_5?crid=3S099968VXMXA&dib=eyJ2IjoiMSJ9.w9FjOgRJLM0vYdIVImsScUafugbNLSs5DshepgWg8oT-U-iYhsc89jpMVDMGQ0crEEj7joKGCKZCPzcJ4YnVL1YXnfjX9zHmLf7RDM7I9hxOMkUwBb5_dem7Mm1pJKG9atvE48H397MgYFMyfSBF2fRICZJUixqmPsOBhufU3q2KEqoQhKwrkM-UZjsnQfz0DaJgmLAnBYt2ljFEDFf6DPGDztKAGyePD08yjQ0nP0vtKjCWSrk5NT7Wpu6jYB6-W1A-wApfVlXNmWqmvoAIcM_6EUlWeQAq_7YSSSVjkKU.S65d_duoQ2duZ0JW_O-BrC4slV0OqymKzdzobkWORoA&dib_tag=se&keywords=body+wash&qid=1727489826&rdc=1&sprefix=Body+%2Caps%2C92&sr=8-5&pageNumber=81\n",
            "Scraping page 82: https://www.amazon.com/Dove-Body-Wash-Pump-Moisture/dp/B00MEDOY2G/ref=sr_1_5?crid=3S099968VXMXA&dib=eyJ2IjoiMSJ9.w9FjOgRJLM0vYdIVImsScUafugbNLSs5DshepgWg8oT-U-iYhsc89jpMVDMGQ0crEEj7joKGCKZCPzcJ4YnVL1YXnfjX9zHmLf7RDM7I9hxOMkUwBb5_dem7Mm1pJKG9atvE48H397MgYFMyfSBF2fRICZJUixqmPsOBhufU3q2KEqoQhKwrkM-UZjsnQfz0DaJgmLAnBYt2ljFEDFf6DPGDztKAGyePD08yjQ0nP0vtKjCWSrk5NT7Wpu6jYB6-W1A-wApfVlXNmWqmvoAIcM_6EUlWeQAq_7YSSSVjkKU.S65d_duoQ2duZ0JW_O-BrC4slV0OqymKzdzobkWORoA&dib_tag=se&keywords=body+wash&qid=1727489826&rdc=1&sprefix=Body+%2Caps%2C92&sr=8-5&pageNumber=82\n",
            "Scraping page 83: https://www.amazon.com/Dove-Body-Wash-Pump-Moisture/dp/B00MEDOY2G/ref=sr_1_5?crid=3S099968VXMXA&dib=eyJ2IjoiMSJ9.w9FjOgRJLM0vYdIVImsScUafugbNLSs5DshepgWg8oT-U-iYhsc89jpMVDMGQ0crEEj7joKGCKZCPzcJ4YnVL1YXnfjX9zHmLf7RDM7I9hxOMkUwBb5_dem7Mm1pJKG9atvE48H397MgYFMyfSBF2fRICZJUixqmPsOBhufU3q2KEqoQhKwrkM-UZjsnQfz0DaJgmLAnBYt2ljFEDFf6DPGDztKAGyePD08yjQ0nP0vtKjCWSrk5NT7Wpu6jYB6-W1A-wApfVlXNmWqmvoAIcM_6EUlWeQAq_7YSSSVjkKU.S65d_duoQ2duZ0JW_O-BrC4slV0OqymKzdzobkWORoA&dib_tag=se&keywords=body+wash&qid=1727489826&rdc=1&sprefix=Body+%2Caps%2C92&sr=8-5&pageNumber=83\n",
            "Scraping page 84: https://www.amazon.com/Dove-Body-Wash-Pump-Moisture/dp/B00MEDOY2G/ref=sr_1_5?crid=3S099968VXMXA&dib=eyJ2IjoiMSJ9.w9FjOgRJLM0vYdIVImsScUafugbNLSs5DshepgWg8oT-U-iYhsc89jpMVDMGQ0crEEj7joKGCKZCPzcJ4YnVL1YXnfjX9zHmLf7RDM7I9hxOMkUwBb5_dem7Mm1pJKG9atvE48H397MgYFMyfSBF2fRICZJUixqmPsOBhufU3q2KEqoQhKwrkM-UZjsnQfz0DaJgmLAnBYt2ljFEDFf6DPGDztKAGyePD08yjQ0nP0vtKjCWSrk5NT7Wpu6jYB6-W1A-wApfVlXNmWqmvoAIcM_6EUlWeQAq_7YSSSVjkKU.S65d_duoQ2duZ0JW_O-BrC4slV0OqymKzdzobkWORoA&dib_tag=se&keywords=body+wash&qid=1727489826&rdc=1&sprefix=Body+%2Caps%2C92&sr=8-5&pageNumber=84\n",
            "Scraping page 85: https://www.amazon.com/Dove-Body-Wash-Pump-Moisture/dp/B00MEDOY2G/ref=sr_1_5?crid=3S099968VXMXA&dib=eyJ2IjoiMSJ9.w9FjOgRJLM0vYdIVImsScUafugbNLSs5DshepgWg8oT-U-iYhsc89jpMVDMGQ0crEEj7joKGCKZCPzcJ4YnVL1YXnfjX9zHmLf7RDM7I9hxOMkUwBb5_dem7Mm1pJKG9atvE48H397MgYFMyfSBF2fRICZJUixqmPsOBhufU3q2KEqoQhKwrkM-UZjsnQfz0DaJgmLAnBYt2ljFEDFf6DPGDztKAGyePD08yjQ0nP0vtKjCWSrk5NT7Wpu6jYB6-W1A-wApfVlXNmWqmvoAIcM_6EUlWeQAq_7YSSSVjkKU.S65d_duoQ2duZ0JW_O-BrC4slV0OqymKzdzobkWORoA&dib_tag=se&keywords=body+wash&qid=1727489826&rdc=1&sprefix=Body+%2Caps%2C92&sr=8-5&pageNumber=85\n",
            "Scraping page 86: https://www.amazon.com/Dove-Body-Wash-Pump-Moisture/dp/B00MEDOY2G/ref=sr_1_5?crid=3S099968VXMXA&dib=eyJ2IjoiMSJ9.w9FjOgRJLM0vYdIVImsScUafugbNLSs5DshepgWg8oT-U-iYhsc89jpMVDMGQ0crEEj7joKGCKZCPzcJ4YnVL1YXnfjX9zHmLf7RDM7I9hxOMkUwBb5_dem7Mm1pJKG9atvE48H397MgYFMyfSBF2fRICZJUixqmPsOBhufU3q2KEqoQhKwrkM-UZjsnQfz0DaJgmLAnBYt2ljFEDFf6DPGDztKAGyePD08yjQ0nP0vtKjCWSrk5NT7Wpu6jYB6-W1A-wApfVlXNmWqmvoAIcM_6EUlWeQAq_7YSSSVjkKU.S65d_duoQ2duZ0JW_O-BrC4slV0OqymKzdzobkWORoA&dib_tag=se&keywords=body+wash&qid=1727489826&rdc=1&sprefix=Body+%2Caps%2C92&sr=8-5&pageNumber=86\n",
            "Scraping page 87: https://www.amazon.com/Dove-Body-Wash-Pump-Moisture/dp/B00MEDOY2G/ref=sr_1_5?crid=3S099968VXMXA&dib=eyJ2IjoiMSJ9.w9FjOgRJLM0vYdIVImsScUafugbNLSs5DshepgWg8oT-U-iYhsc89jpMVDMGQ0crEEj7joKGCKZCPzcJ4YnVL1YXnfjX9zHmLf7RDM7I9hxOMkUwBb5_dem7Mm1pJKG9atvE48H397MgYFMyfSBF2fRICZJUixqmPsOBhufU3q2KEqoQhKwrkM-UZjsnQfz0DaJgmLAnBYt2ljFEDFf6DPGDztKAGyePD08yjQ0nP0vtKjCWSrk5NT7Wpu6jYB6-W1A-wApfVlXNmWqmvoAIcM_6EUlWeQAq_7YSSSVjkKU.S65d_duoQ2duZ0JW_O-BrC4slV0OqymKzdzobkWORoA&dib_tag=se&keywords=body+wash&qid=1727489826&rdc=1&sprefix=Body+%2Caps%2C92&sr=8-5&pageNumber=87\n",
            "Scraping page 88: https://www.amazon.com/Dove-Body-Wash-Pump-Moisture/dp/B00MEDOY2G/ref=sr_1_5?crid=3S099968VXMXA&dib=eyJ2IjoiMSJ9.w9FjOgRJLM0vYdIVImsScUafugbNLSs5DshepgWg8oT-U-iYhsc89jpMVDMGQ0crEEj7joKGCKZCPzcJ4YnVL1YXnfjX9zHmLf7RDM7I9hxOMkUwBb5_dem7Mm1pJKG9atvE48H397MgYFMyfSBF2fRICZJUixqmPsOBhufU3q2KEqoQhKwrkM-UZjsnQfz0DaJgmLAnBYt2ljFEDFf6DPGDztKAGyePD08yjQ0nP0vtKjCWSrk5NT7Wpu6jYB6-W1A-wApfVlXNmWqmvoAIcM_6EUlWeQAq_7YSSSVjkKU.S65d_duoQ2duZ0JW_O-BrC4slV0OqymKzdzobkWORoA&dib_tag=se&keywords=body+wash&qid=1727489826&rdc=1&sprefix=Body+%2Caps%2C92&sr=8-5&pageNumber=88\n",
            "Scraping page 89: https://www.amazon.com/Dove-Body-Wash-Pump-Moisture/dp/B00MEDOY2G/ref=sr_1_5?crid=3S099968VXMXA&dib=eyJ2IjoiMSJ9.w9FjOgRJLM0vYdIVImsScUafugbNLSs5DshepgWg8oT-U-iYhsc89jpMVDMGQ0crEEj7joKGCKZCPzcJ4YnVL1YXnfjX9zHmLf7RDM7I9hxOMkUwBb5_dem7Mm1pJKG9atvE48H397MgYFMyfSBF2fRICZJUixqmPsOBhufU3q2KEqoQhKwrkM-UZjsnQfz0DaJgmLAnBYt2ljFEDFf6DPGDztKAGyePD08yjQ0nP0vtKjCWSrk5NT7Wpu6jYB6-W1A-wApfVlXNmWqmvoAIcM_6EUlWeQAq_7YSSSVjkKU.S65d_duoQ2duZ0JW_O-BrC4slV0OqymKzdzobkWORoA&dib_tag=se&keywords=body+wash&qid=1727489826&rdc=1&sprefix=Body+%2Caps%2C92&sr=8-5&pageNumber=89\n",
            "Scraping page 90: https://www.amazon.com/Dove-Body-Wash-Pump-Moisture/dp/B00MEDOY2G/ref=sr_1_5?crid=3S099968VXMXA&dib=eyJ2IjoiMSJ9.w9FjOgRJLM0vYdIVImsScUafugbNLSs5DshepgWg8oT-U-iYhsc89jpMVDMGQ0crEEj7joKGCKZCPzcJ4YnVL1YXnfjX9zHmLf7RDM7I9hxOMkUwBb5_dem7Mm1pJKG9atvE48H397MgYFMyfSBF2fRICZJUixqmPsOBhufU3q2KEqoQhKwrkM-UZjsnQfz0DaJgmLAnBYt2ljFEDFf6DPGDztKAGyePD08yjQ0nP0vtKjCWSrk5NT7Wpu6jYB6-W1A-wApfVlXNmWqmvoAIcM_6EUlWeQAq_7YSSSVjkKU.S65d_duoQ2duZ0JW_O-BrC4slV0OqymKzdzobkWORoA&dib_tag=se&keywords=body+wash&qid=1727489826&rdc=1&sprefix=Body+%2Caps%2C92&sr=8-5&pageNumber=90\n",
            "Scraping page 91: https://www.amazon.com/Dove-Body-Wash-Pump-Moisture/dp/B00MEDOY2G/ref=sr_1_5?crid=3S099968VXMXA&dib=eyJ2IjoiMSJ9.w9FjOgRJLM0vYdIVImsScUafugbNLSs5DshepgWg8oT-U-iYhsc89jpMVDMGQ0crEEj7joKGCKZCPzcJ4YnVL1YXnfjX9zHmLf7RDM7I9hxOMkUwBb5_dem7Mm1pJKG9atvE48H397MgYFMyfSBF2fRICZJUixqmPsOBhufU3q2KEqoQhKwrkM-UZjsnQfz0DaJgmLAnBYt2ljFEDFf6DPGDztKAGyePD08yjQ0nP0vtKjCWSrk5NT7Wpu6jYB6-W1A-wApfVlXNmWqmvoAIcM_6EUlWeQAq_7YSSSVjkKU.S65d_duoQ2duZ0JW_O-BrC4slV0OqymKzdzobkWORoA&dib_tag=se&keywords=body+wash&qid=1727489826&rdc=1&sprefix=Body+%2Caps%2C92&sr=8-5&pageNumber=91\n",
            "Scraping page 92: https://www.amazon.com/Dove-Body-Wash-Pump-Moisture/dp/B00MEDOY2G/ref=sr_1_5?crid=3S099968VXMXA&dib=eyJ2IjoiMSJ9.w9FjOgRJLM0vYdIVImsScUafugbNLSs5DshepgWg8oT-U-iYhsc89jpMVDMGQ0crEEj7joKGCKZCPzcJ4YnVL1YXnfjX9zHmLf7RDM7I9hxOMkUwBb5_dem7Mm1pJKG9atvE48H397MgYFMyfSBF2fRICZJUixqmPsOBhufU3q2KEqoQhKwrkM-UZjsnQfz0DaJgmLAnBYt2ljFEDFf6DPGDztKAGyePD08yjQ0nP0vtKjCWSrk5NT7Wpu6jYB6-W1A-wApfVlXNmWqmvoAIcM_6EUlWeQAq_7YSSSVjkKU.S65d_duoQ2duZ0JW_O-BrC4slV0OqymKzdzobkWORoA&dib_tag=se&keywords=body+wash&qid=1727489826&rdc=1&sprefix=Body+%2Caps%2C92&sr=8-5&pageNumber=92\n",
            "Scraping page 93: https://www.amazon.com/Dove-Body-Wash-Pump-Moisture/dp/B00MEDOY2G/ref=sr_1_5?crid=3S099968VXMXA&dib=eyJ2IjoiMSJ9.w9FjOgRJLM0vYdIVImsScUafugbNLSs5DshepgWg8oT-U-iYhsc89jpMVDMGQ0crEEj7joKGCKZCPzcJ4YnVL1YXnfjX9zHmLf7RDM7I9hxOMkUwBb5_dem7Mm1pJKG9atvE48H397MgYFMyfSBF2fRICZJUixqmPsOBhufU3q2KEqoQhKwrkM-UZjsnQfz0DaJgmLAnBYt2ljFEDFf6DPGDztKAGyePD08yjQ0nP0vtKjCWSrk5NT7Wpu6jYB6-W1A-wApfVlXNmWqmvoAIcM_6EUlWeQAq_7YSSSVjkKU.S65d_duoQ2duZ0JW_O-BrC4slV0OqymKzdzobkWORoA&dib_tag=se&keywords=body+wash&qid=1727489826&rdc=1&sprefix=Body+%2Caps%2C92&sr=8-5&pageNumber=93\n",
            "Scraping page 94: https://www.amazon.com/Dove-Body-Wash-Pump-Moisture/dp/B00MEDOY2G/ref=sr_1_5?crid=3S099968VXMXA&dib=eyJ2IjoiMSJ9.w9FjOgRJLM0vYdIVImsScUafugbNLSs5DshepgWg8oT-U-iYhsc89jpMVDMGQ0crEEj7joKGCKZCPzcJ4YnVL1YXnfjX9zHmLf7RDM7I9hxOMkUwBb5_dem7Mm1pJKG9atvE48H397MgYFMyfSBF2fRICZJUixqmPsOBhufU3q2KEqoQhKwrkM-UZjsnQfz0DaJgmLAnBYt2ljFEDFf6DPGDztKAGyePD08yjQ0nP0vtKjCWSrk5NT7Wpu6jYB6-W1A-wApfVlXNmWqmvoAIcM_6EUlWeQAq_7YSSSVjkKU.S65d_duoQ2duZ0JW_O-BrC4slV0OqymKzdzobkWORoA&dib_tag=se&keywords=body+wash&qid=1727489826&rdc=1&sprefix=Body+%2Caps%2C92&sr=8-5&pageNumber=94\n",
            "Scraping page 95: https://www.amazon.com/Dove-Body-Wash-Pump-Moisture/dp/B00MEDOY2G/ref=sr_1_5?crid=3S099968VXMXA&dib=eyJ2IjoiMSJ9.w9FjOgRJLM0vYdIVImsScUafugbNLSs5DshepgWg8oT-U-iYhsc89jpMVDMGQ0crEEj7joKGCKZCPzcJ4YnVL1YXnfjX9zHmLf7RDM7I9hxOMkUwBb5_dem7Mm1pJKG9atvE48H397MgYFMyfSBF2fRICZJUixqmPsOBhufU3q2KEqoQhKwrkM-UZjsnQfz0DaJgmLAnBYt2ljFEDFf6DPGDztKAGyePD08yjQ0nP0vtKjCWSrk5NT7Wpu6jYB6-W1A-wApfVlXNmWqmvoAIcM_6EUlWeQAq_7YSSSVjkKU.S65d_duoQ2duZ0JW_O-BrC4slV0OqymKzdzobkWORoA&dib_tag=se&keywords=body+wash&qid=1727489826&rdc=1&sprefix=Body+%2Caps%2C92&sr=8-5&pageNumber=95\n",
            "Scraping page 96: https://www.amazon.com/Dove-Body-Wash-Pump-Moisture/dp/B00MEDOY2G/ref=sr_1_5?crid=3S099968VXMXA&dib=eyJ2IjoiMSJ9.w9FjOgRJLM0vYdIVImsScUafugbNLSs5DshepgWg8oT-U-iYhsc89jpMVDMGQ0crEEj7joKGCKZCPzcJ4YnVL1YXnfjX9zHmLf7RDM7I9hxOMkUwBb5_dem7Mm1pJKG9atvE48H397MgYFMyfSBF2fRICZJUixqmPsOBhufU3q2KEqoQhKwrkM-UZjsnQfz0DaJgmLAnBYt2ljFEDFf6DPGDztKAGyePD08yjQ0nP0vtKjCWSrk5NT7Wpu6jYB6-W1A-wApfVlXNmWqmvoAIcM_6EUlWeQAq_7YSSSVjkKU.S65d_duoQ2duZ0JW_O-BrC4slV0OqymKzdzobkWORoA&dib_tag=se&keywords=body+wash&qid=1727489826&rdc=1&sprefix=Body+%2Caps%2C92&sr=8-5&pageNumber=96\n",
            "Scraping page 97: https://www.amazon.com/Dove-Body-Wash-Pump-Moisture/dp/B00MEDOY2G/ref=sr_1_5?crid=3S099968VXMXA&dib=eyJ2IjoiMSJ9.w9FjOgRJLM0vYdIVImsScUafugbNLSs5DshepgWg8oT-U-iYhsc89jpMVDMGQ0crEEj7joKGCKZCPzcJ4YnVL1YXnfjX9zHmLf7RDM7I9hxOMkUwBb5_dem7Mm1pJKG9atvE48H397MgYFMyfSBF2fRICZJUixqmPsOBhufU3q2KEqoQhKwrkM-UZjsnQfz0DaJgmLAnBYt2ljFEDFf6DPGDztKAGyePD08yjQ0nP0vtKjCWSrk5NT7Wpu6jYB6-W1A-wApfVlXNmWqmvoAIcM_6EUlWeQAq_7YSSSVjkKU.S65d_duoQ2duZ0JW_O-BrC4slV0OqymKzdzobkWORoA&dib_tag=se&keywords=body+wash&qid=1727489826&rdc=1&sprefix=Body+%2Caps%2C92&sr=8-5&pageNumber=97\n",
            "Scraping page 98: https://www.amazon.com/Dove-Body-Wash-Pump-Moisture/dp/B00MEDOY2G/ref=sr_1_5?crid=3S099968VXMXA&dib=eyJ2IjoiMSJ9.w9FjOgRJLM0vYdIVImsScUafugbNLSs5DshepgWg8oT-U-iYhsc89jpMVDMGQ0crEEj7joKGCKZCPzcJ4YnVL1YXnfjX9zHmLf7RDM7I9hxOMkUwBb5_dem7Mm1pJKG9atvE48H397MgYFMyfSBF2fRICZJUixqmPsOBhufU3q2KEqoQhKwrkM-UZjsnQfz0DaJgmLAnBYt2ljFEDFf6DPGDztKAGyePD08yjQ0nP0vtKjCWSrk5NT7Wpu6jYB6-W1A-wApfVlXNmWqmvoAIcM_6EUlWeQAq_7YSSSVjkKU.S65d_duoQ2duZ0JW_O-BrC4slV0OqymKzdzobkWORoA&dib_tag=se&keywords=body+wash&qid=1727489826&rdc=1&sprefix=Body+%2Caps%2C92&sr=8-5&pageNumber=98\n",
            "Scraping page 99: https://www.amazon.com/Dove-Body-Wash-Pump-Moisture/dp/B00MEDOY2G/ref=sr_1_5?crid=3S099968VXMXA&dib=eyJ2IjoiMSJ9.w9FjOgRJLM0vYdIVImsScUafugbNLSs5DshepgWg8oT-U-iYhsc89jpMVDMGQ0crEEj7joKGCKZCPzcJ4YnVL1YXnfjX9zHmLf7RDM7I9hxOMkUwBb5_dem7Mm1pJKG9atvE48H397MgYFMyfSBF2fRICZJUixqmPsOBhufU3q2KEqoQhKwrkM-UZjsnQfz0DaJgmLAnBYt2ljFEDFf6DPGDztKAGyePD08yjQ0nP0vtKjCWSrk5NT7Wpu6jYB6-W1A-wApfVlXNmWqmvoAIcM_6EUlWeQAq_7YSSSVjkKU.S65d_duoQ2duZ0JW_O-BrC4slV0OqymKzdzobkWORoA&dib_tag=se&keywords=body+wash&qid=1727489826&rdc=1&sprefix=Body+%2Caps%2C92&sr=8-5&pageNumber=99\n",
            "Scraping page 100: https://www.amazon.com/Dove-Body-Wash-Pump-Moisture/dp/B00MEDOY2G/ref=sr_1_5?crid=3S099968VXMXA&dib=eyJ2IjoiMSJ9.w9FjOgRJLM0vYdIVImsScUafugbNLSs5DshepgWg8oT-U-iYhsc89jpMVDMGQ0crEEj7joKGCKZCPzcJ4YnVL1YXnfjX9zHmLf7RDM7I9hxOMkUwBb5_dem7Mm1pJKG9atvE48H397MgYFMyfSBF2fRICZJUixqmPsOBhufU3q2KEqoQhKwrkM-UZjsnQfz0DaJgmLAnBYt2ljFEDFf6DPGDztKAGyePD08yjQ0nP0vtKjCWSrk5NT7Wpu6jYB6-W1A-wApfVlXNmWqmvoAIcM_6EUlWeQAq_7YSSSVjkKU.S65d_duoQ2duZ0JW_O-BrC4slV0OqymKzdzobkWORoA&dib_tag=se&keywords=body+wash&qid=1727489826&rdc=1&sprefix=Body+%2Caps%2C92&sr=8-5&pageNumber=100\n",
            "CSV file has been saved successfully as /content/Amazon_Product_Reviews.csv\n",
            "                                               title              rating  \\\n",
            "0                  5.0 out of 5 stars\\nGood product!  5.0 out of 5 stars   \n",
            "1              5.0 out of 5 stars\\nNecessary to have  5.0 out of 5 stars   \n",
            "2  5.0 out of 5 stars\\nMy Go To Body Wash for Yea...  5.0 out of 5 stars   \n",
            "3          5.0 out of 5 stars\\nMy favorite body soap  5.0 out of 5 stars   \n",
            "4  5.0 out of 5 stars\\nDove is Good, but EVIL GOO...  5.0 out of 5 stars   \n",
            "\n",
            "                                         review_text  \\\n",
            "0  It smells good and makes my skin soft. It lath...   \n",
            "1  The pump is handy in the shower or at the sink...   \n",
            "2  I have been purchasing the Dove Body Wash with...   \n",
            "3  I love dove. It’s a great body wash. It has a ...   \n",
            "4  Dove Body Wash with Pump  caught my attention ...   \n",
            "\n",
            "                                                date  \n",
            "0  Reviewed in the United States on September 11,...  \n",
            "1  Reviewed in the United States on September 4, ...  \n",
            "2     Reviewed in the United States on July 29, 2024  \n",
            "3   Reviewed in the United States on August 27, 2024  \n",
            "4     Reviewed in the United States on June 30, 2024  \n"
          ]
        }
      ],
      "source": [
        "import requests\n",
        "from bs4 import BeautifulSoup\n",
        "import pandas as pd\n",
        "import time\n",
        "import os\n",
        "\n",
        "def get_review_text(soup): # Function to extract the review details\n",
        "    reviews = []\n",
        "    review_blocks = soup.find_all(\"div\", {\"data-hook\": \"review\"})\n",
        "\n",
        "    for block in review_blocks:\n",
        "        try:\n",
        "            review_text = block.find(\"span\", {\"data-hook\": \"review-body\"}).text.strip()\n",
        "            rating = block.find(\"i\", {\"data-hook\": \"review-star-rating\"}).text.strip()\n",
        "            date = block.find(\"span\", {\"data-hook\": \"review-date\"}).text.strip()\n",
        "            title = block.find(\"a\", {\"data-hook\": \"review-title\"}).text.strip()\n",
        "            reviews.append({\n",
        "                \"title\": title,\n",
        "                \"rating\": rating,\n",
        "                \"review_text\": review_text,\n",
        "                \"date\": date\n",
        "            })\n",
        "        except AttributeError:\n",
        "            continue\n",
        "    return reviews\n",
        "\n",
        "def scrape_review_page(url, headers): # Function to scrape a single page of reviews\n",
        "    try:\n",
        "        review_page = requests.get(url, headers=headers, timeout=10)\n",
        "        soup = BeautifulSoup(review_page.content, 'html.parser')\n",
        "        return get_review_text(soup)\n",
        "    except requests.exceptions.RequestException as e:\n",
        "        print(f\"Error fetching {url}: {e}\")\n",
        "        return []\n",
        "\n",
        "def scrape_amazon_reviews(product_base_url, headers, max_pages=20): # Function to scrape reviews across multiple pages\n",
        "    reviews_data = []\n",
        "    for page_num in range(1, max_pages + 1):\n",
        "        review_url = f\"{product_base_url}&pageNumber={page_num}\"\n",
        "        print(f\"Scraping page {page_num}: {review_url}\")\n",
        "\n",
        "        reviews = scrape_review_page(review_url, headers)\n",
        "        if reviews:\n",
        "            reviews_data.extend(reviews)\n",
        "\n",
        "        time.sleep(2)\n",
        "\n",
        "        if len(reviews_data) >= 1000:\n",
        "            break\n",
        "\n",
        "    return reviews_data\n",
        "\n",
        "if __name__ == '__main__': # Main function to execute the scraping\n",
        "    # Define headers to avoid being blocked\n",
        "    HEADERS = {\n",
        "        \"User-Agent\": \"Mozilla/5.0 (Windows NT 10.0; Win64; x64) AppleWebKit/537.36 (KHTML, like Gecko) Chrome/58.0.3029.110 Safari/537.3\",\n",
        "        \"Accept-Language\": \"en-US, en;q=0.5\",\n",
        "    }\n",
        "\n",
        "    base_url = \"https://www.amazon.com/Dove-Body-Wash-Pump-Moisture/dp/B00MEDOY2G/ref=sr_1_5?crid=3S099968VXMXA&dib=eyJ2IjoiMSJ9.w9FjOgRJLM0vYdIVImsScUafugbNLSs5DshepgWg8oT-U-iYhsc89jpMVDMGQ0crEEj7joKGCKZCPzcJ4YnVL1YXnfjX9zHmLf7RDM7I9hxOMkUwBb5_dem7Mm1pJKG9atvE48H397MgYFMyfSBF2fRICZJUixqmPsOBhufU3q2KEqoQhKwrkM-UZjsnQfz0DaJgmLAnBYt2ljFEDFf6DPGDztKAGyePD08yjQ0nP0vtKjCWSrk5NT7Wpu6jYB6-W1A-wApfVlXNmWqmvoAIcM_6EUlWeQAq_7YSSSVjkKU.S65d_duoQ2duZ0JW_O-BrC4slV0OqymKzdzobkWORoA&dib_tag=se&keywords=body+wash&qid=1727489826&rdc=1&sprefix=Body+%2Caps%2C92&sr=8-5\"\n",
        "    # Scraping the reviews\n",
        "    scraped_reviews = scrape_amazon_reviews(base_url, HEADERS, max_pages=100)\n",
        "\n",
        "    # Check if reviews are scraped\n",
        "    if not scraped_reviews:\n",
        "        print(\"No reviews scraped. Check if the product URL is correct or if you're being blocked by Amazon.\")\n",
        "    else:\n",
        "        reviews_df = pd.DataFrame(scraped_reviews) # Converting to DataFrame\n",
        "\n",
        "        csv_file_path = os.path.join(os.getcwd(), \"Amazon_Product_Reviews.csv\")# Define the file path where the CSV will be saved\n",
        "\n",
        "        reviews_df.to_csv(csv_file_path, header=True, index=False)  # Save the DataFrame to CSV\n",
        "\n",
        "        print(f\"CSV file has been saved successfully as {csv_file_path}\")\n",
        "        print(reviews_df.head())\n"
      ]
    },
    {
      "cell_type": "markdown",
      "metadata": {
        "id": "90_NR8c5XGWc"
      },
      "source": [
        "# Question 2 (30 points)\n",
        "\n",
        "Write a python program to **clean the text data** you collected in the previous question and save the clean data in a new column in the csv file. The data cleaning steps include: [Code and output is required for each part]\n",
        "\n",
        "(1) Remove noise, such as special characters and punctuations.\n",
        "\n",
        "(2) Remove numbers.\n",
        "\n",
        "(3) Remove stopwords by using the stopwords list.\n",
        "\n",
        "(4) Lowercase all texts\n",
        "\n",
        "(5) Stemming.\n",
        "\n",
        "(6) Lemmatization."
      ]
    },
    {
      "cell_type": "markdown",
      "source": [
        "**Remove Noise (Special Characters and Punctuations)**"
      ],
      "metadata": {
        "id": "6VpCj5ovkmlg"
      }
    },
    {
      "cell_type": "code",
      "execution_count": 6,
      "metadata": {
        "id": "5QX6bJjGWXY9",
        "colab": {
          "base_uri": "https://localhost:8080/"
        },
        "outputId": "864d5719-d260-4943-8647-bbc5b5a0ba1d"
      },
      "outputs": [
        {
          "output_type": "stream",
          "name": "stdout",
          "text": [
            "                                         review_text  \\\n",
            "0  The pump dispenser is a nice touch, making it ...   \n",
            "1  I have a hard time finding smells that aren't ...   \n",
            "2  I’ve been using this product for years. It’s g...   \n",
            "3  This product is wonderful to use.  I have dry ...   \n",
            "4  It's nice and creamy.  It leaves skin soft and...   \n",
            "\n",
            "                                        cleaned_text  \n",
            "0  The pump dispenser is a nice touch making it c...  \n",
            "1  I have a hard time finding smells that arent t...  \n",
            "2  Ive been using this product for years Its grea...  \n",
            "3  This product is wonderful to use  I have dry a...  \n",
            "4  Its nice and creamy  It leaves skin soft and s...  \n"
          ]
        }
      ],
      "source": [
        "# Write code for each of the sub parts with proper comments.\n",
        "\n",
        "import pandas as pd\n",
        "import re\n",
        "\n",
        "df = pd.read_csv('Amazon_Product_Reviews.csv')\n",
        "\n",
        "def remove_noise(text):\n",
        "    text = re.sub(r'[^\\w\\s]', '', text)  # Remove special characters and punctuations\n",
        "    return text\n",
        "\n",
        "df['cleaned_text'] = df['review_text'].apply(remove_noise)\n",
        "\n",
        "# Display the DataFrame with cleaned text\n",
        "print(df[['review_text', 'cleaned_text']].head())"
      ]
    },
    {
      "cell_type": "markdown",
      "source": [
        "**Remove Numbers**"
      ],
      "metadata": {
        "id": "y75K6HCDkvmv"
      }
    },
    {
      "cell_type": "code",
      "source": [
        "def remove_numbers(text):\n",
        "    text = re.sub(r'\\d+', '', text)  # Remove numbers\n",
        "    return text\n",
        "\n",
        "df['cleaned_text'] = df['cleaned_text'].apply(remove_numbers)\n",
        "\n",
        "# Display the DataFrame with numbers removed\n",
        "print(df[['review_text', 'cleaned_text']].head())\n"
      ],
      "metadata": {
        "colab": {
          "base_uri": "https://localhost:8080/"
        },
        "id": "biKy0c3bk0EZ",
        "outputId": "78d65853-b685-49df-819b-2d7ed3af4c0f"
      },
      "execution_count": 7,
      "outputs": [
        {
          "output_type": "stream",
          "name": "stdout",
          "text": [
            "                                         review_text  \\\n",
            "0  The pump dispenser is a nice touch, making it ...   \n",
            "1  I have a hard time finding smells that aren't ...   \n",
            "2  I’ve been using this product for years. It’s g...   \n",
            "3  This product is wonderful to use.  I have dry ...   \n",
            "4  It's nice and creamy.  It leaves skin soft and...   \n",
            "\n",
            "                                        cleaned_text  \n",
            "0  The pump dispenser is a nice touch making it c...  \n",
            "1  I have a hard time finding smells that arent t...  \n",
            "2  Ive been using this product for years Its grea...  \n",
            "3  This product is wonderful to use  I have dry a...  \n",
            "4  Its nice and creamy  It leaves skin soft and s...  \n"
          ]
        }
      ]
    },
    {
      "cell_type": "markdown",
      "source": [
        "**Remove Stop Words**"
      ],
      "metadata": {
        "id": "ytkR47BWk3-5"
      }
    },
    {
      "cell_type": "code",
      "source": [
        "from nltk.corpus import stopwords\n",
        "import nltk\n",
        "nltk.download('stopwords')\n",
        "\n",
        "stop_words = set(stopwords.words('english'))\n",
        "\n",
        "def remove_stopwords(text):\n",
        "    words = text.split()\n",
        "    filtered_words = [word for word in words if word.lower() not in stop_words]\n",
        "    return ' '.join(filtered_words)\n",
        "\n",
        "df['cleaned_text'] = df['cleaned_text'].apply(remove_stopwords)\n",
        "\n",
        "# Display the DataFrame with stopwords removed\n",
        "print(df[['review_text', 'cleaned_text']].head())\n"
      ],
      "metadata": {
        "colab": {
          "base_uri": "https://localhost:8080/"
        },
        "id": "3dAABXHOk6-j",
        "outputId": "3d3b35f5-d2d9-4d51-d94c-8406e9769b0a"
      },
      "execution_count": 8,
      "outputs": [
        {
          "output_type": "stream",
          "name": "stdout",
          "text": [
            "                                         review_text  \\\n",
            "0  The pump dispenser is a nice touch, making it ...   \n",
            "1  I have a hard time finding smells that aren't ...   \n",
            "2  I’ve been using this product for years. It’s g...   \n",
            "3  This product is wonderful to use.  I have dry ...   \n",
            "4  It's nice and creamy.  It leaves skin soft and...   \n",
            "\n",
            "                                        cleaned_text  \n",
            "0  pump dispenser nice touch making convenient us...  \n",
            "1  hard time finding smells arent strong soap lea...  \n",
            "2  Ive using product years great dry skin eczemaI...  \n",
            "3  product wonderful use dry sensitive skin works...  \n",
            "4  nice creamy leaves skin soft smooth sting burn...  \n"
          ]
        },
        {
          "output_type": "stream",
          "name": "stderr",
          "text": [
            "[nltk_data] Downloading package stopwords to /root/nltk_data...\n",
            "[nltk_data]   Unzipping corpora/stopwords.zip.\n"
          ]
        }
      ]
    },
    {
      "cell_type": "markdown",
      "source": [
        "**Lowercase All Texts**"
      ],
      "metadata": {
        "id": "qhPLtUqfk8JR"
      }
    },
    {
      "cell_type": "code",
      "source": [
        "def lowercase_text(text):\n",
        "    return text.lower()\n",
        "\n",
        "df['cleaned_text'] = df['cleaned_text'].apply(lowercase_text)\n",
        "\n",
        "# Display the DataFrame with lowercase text\n",
        "print(df[['review_text', 'cleaned_text']].head())"
      ],
      "metadata": {
        "colab": {
          "base_uri": "https://localhost:8080/"
        },
        "id": "P3HQrbURk_TQ",
        "outputId": "e926082f-ac35-4eaa-9860-6a7571de5656"
      },
      "execution_count": 9,
      "outputs": [
        {
          "output_type": "stream",
          "name": "stdout",
          "text": [
            "                                         review_text  \\\n",
            "0  The pump dispenser is a nice touch, making it ...   \n",
            "1  I have a hard time finding smells that aren't ...   \n",
            "2  I’ve been using this product for years. It’s g...   \n",
            "3  This product is wonderful to use.  I have dry ...   \n",
            "4  It's nice and creamy.  It leaves skin soft and...   \n",
            "\n",
            "                                        cleaned_text  \n",
            "0  pump dispenser nice touch making convenient us...  \n",
            "1  hard time finding smells arent strong soap lea...  \n",
            "2  ive using product years great dry skin eczemai...  \n",
            "3  product wonderful use dry sensitive skin works...  \n",
            "4  nice creamy leaves skin soft smooth sting burn...  \n"
          ]
        }
      ]
    },
    {
      "cell_type": "markdown",
      "source": [
        "**Stemming**"
      ],
      "metadata": {
        "id": "kYOiu86hlCFX"
      }
    },
    {
      "cell_type": "code",
      "source": [
        "from nltk.stem import PorterStemmer\n",
        "\n",
        "stemmer = PorterStemmer()\n",
        "\n",
        "def stem_text(text):\n",
        "    words = text.split()\n",
        "    stemmed_words = [stemmer.stem(word) for word in words]\n",
        "    return ' '.join(stemmed_words)\n",
        "\n",
        "df['stemmed_text'] = df['cleaned_text'].apply(stem_text)\n",
        "\n",
        "# Display the DataFrame with stemming\n",
        "print(df[['review_text', 'stemmed_text']].head())"
      ],
      "metadata": {
        "colab": {
          "base_uri": "https://localhost:8080/"
        },
        "id": "MduyTEKLlFPt",
        "outputId": "354da086-2cd6-403a-8e7d-6b0ea6edb985"
      },
      "execution_count": 10,
      "outputs": [
        {
          "output_type": "stream",
          "name": "stdout",
          "text": [
            "                                         review_text  \\\n",
            "0  The pump dispenser is a nice touch, making it ...   \n",
            "1  I have a hard time finding smells that aren't ...   \n",
            "2  I’ve been using this product for years. It’s g...   \n",
            "3  This product is wonderful to use.  I have dry ...   \n",
            "4  It's nice and creamy.  It leaves skin soft and...   \n",
            "\n",
            "                                        stemmed_text  \n",
            "0  pump dispens nice touch make conveni use showe...  \n",
            "1  hard time find smell arent strong soap leav sk...  \n",
            "2  ive use product year great dri skin eczemait m...  \n",
            "3  product wonder use dri sensit skin work great ...  \n",
            "4  nice creami leav skin soft smooth sting burn c...  \n"
          ]
        }
      ]
    },
    {
      "cell_type": "markdown",
      "source": [
        "**Lemmatization**"
      ],
      "metadata": {
        "id": "f_7E3dEBlJL_"
      }
    },
    {
      "cell_type": "code",
      "source": [
        "from nltk.stem import WordNetLemmatizer\n",
        "\n",
        "nltk.download('wordnet')\n",
        "nltk.download('omw-1.4')\n",
        "\n",
        "lemmatizer = WordNetLemmatizer()\n",
        "\n",
        "def lemmatize_text(text):\n",
        "    words = text.split()\n",
        "    lemmatized_words = [lemmatizer.lemmatize(word) for word in words]\n",
        "    return ' '.join(lemmatized_words)\n",
        "\n",
        "df['lemmatized_text'] = df['cleaned_text'].apply(lemmatize_text)\n",
        "\n",
        "# Display the DataFrame with lemmatization\n",
        "print(df[['review_text', 'lemmatized_text']].head())"
      ],
      "metadata": {
        "colab": {
          "base_uri": "https://localhost:8080/"
        },
        "id": "sWl7mZGElLLF",
        "outputId": "530c2029-8010-4a5e-f340-87e2099a3901"
      },
      "execution_count": 11,
      "outputs": [
        {
          "output_type": "stream",
          "name": "stderr",
          "text": [
            "[nltk_data] Downloading package wordnet to /root/nltk_data...\n",
            "[nltk_data] Downloading package omw-1.4 to /root/nltk_data...\n"
          ]
        },
        {
          "output_type": "stream",
          "name": "stdout",
          "text": [
            "                                         review_text  \\\n",
            "0  The pump dispenser is a nice touch, making it ...   \n",
            "1  I have a hard time finding smells that aren't ...   \n",
            "2  I’ve been using this product for years. It’s g...   \n",
            "3  This product is wonderful to use.  I have dry ...   \n",
            "4  It's nice and creamy.  It leaves skin soft and...   \n",
            "\n",
            "                                     lemmatized_text  \n",
            "0  pump dispenser nice touch making convenient us...  \n",
            "1  hard time finding smell arent strong soap leaf...  \n",
            "2  ive using product year great dry skin eczemait...  \n",
            "3  product wonderful use dry sensitive skin work ...  \n",
            "4  nice creamy leaf skin soft smooth sting burn c...  \n"
          ]
        }
      ]
    },
    {
      "cell_type": "markdown",
      "metadata": {
        "id": "1F_PZdH9Sh49"
      },
      "source": [
        "# Question 3 (30 points)\n",
        "\n",
        "Write a python program to **conduct syntax and structure analysis of the clean text** you just saved above. The syntax and structure analysis includes:\n",
        "\n",
        "(1) **Parts of Speech (POS) Tagging:** Tag Parts of Speech of each word in the text, and calculate the total number of N(oun), V(erb), Adj(ective), Adv(erb), respectively.\n",
        "\n",
        "(2) **Constituency Parsing and Dependency Parsing:** print out the constituency parsing trees and dependency parsing trees of all the sentences. Using one sentence as an example to explain your understanding about the constituency parsing tree and dependency parsing tree.\n",
        "\n",
        "(3) **Named Entity Recognition:** Extract all the entities such as person names, organizations, locations, product names, and date from the clean texts, calculate the count of each entity."
      ]
    },
    {
      "cell_type": "code",
      "execution_count": 12,
      "metadata": {
        "id": "Y0oOSlsOS0cq",
        "colab": {
          "base_uri": "https://localhost:8080/"
        },
        "outputId": "ba4fca25-68cd-42c3-c011-083688e16d10"
      },
      "outputs": [
        {
          "output_type": "stream",
          "name": "stdout",
          "text": [
            "Total POS counts across all reviews:\n",
            "Nouns (NOUN): 18868\n",
            "Verbs (VERB): 8847\n",
            "Adjectives (ADJ): 10219\n",
            "Adverbs (ADV): 2917\n"
          ]
        }
      ],
      "source": [
        "# Your code here\n",
        "\n",
        "import spacy\n",
        "from collections import Counter\n",
        "\n",
        "# Load the English model in spaCy\n",
        "nlp = spacy.load(\"en_core_web_sm\")\n",
        "\n",
        "# Process the cleaned text with spaCy\n",
        "df['doc'] = df['lemmatized_text'].apply(nlp)\n",
        "\n",
        "# Function to count POS tags\n",
        "def count_pos(doc):\n",
        "    pos_counts = Counter([token.pos_ for token in doc])\n",
        "    return pos_counts\n",
        "\n",
        "# Apply POS counting to each doc\n",
        "df['pos_counts'] = df['doc'].apply(count_pos)\n",
        "\n",
        "# Summarize the total counts across all texts\n",
        "total_counts = Counter()\n",
        "for pos_count in df['pos_counts']:\n",
        "    total_counts.update(pos_count)\n",
        "\n",
        "# Print the total counts for nouns, verbs, adjectives, and adverbs\n",
        "print(\"Total POS counts across all reviews:\")\n",
        "print(f\"Nouns (NOUN): {total_counts['NOUN']}\")\n",
        "print(f\"Verbs (VERB): {total_counts['VERB']}\")\n",
        "print(f\"Adjectives (ADJ): {total_counts['ADJ']}\")\n",
        "print(f\"Adverbs (ADV): {total_counts['ADV']}\")"
      ]
    },
    {
      "cell_type": "code",
      "source": [
        "pip install spacy benepar"
      ],
      "metadata": {
        "colab": {
          "base_uri": "https://localhost:8080/"
        },
        "id": "z4CagMmTmE-d",
        "outputId": "e67ee87d-8876-49bf-d0f2-81a80a5edfcd"
      },
      "execution_count": 16,
      "outputs": [
        {
          "output_type": "stream",
          "name": "stdout",
          "text": [
            "Requirement already satisfied: spacy in /usr/local/lib/python3.10/dist-packages (3.7.6)\n",
            "Requirement already satisfied: benepar in /usr/local/lib/python3.10/dist-packages (0.2.0)\n",
            "Requirement already satisfied: spacy-legacy<3.1.0,>=3.0.11 in /usr/local/lib/python3.10/dist-packages (from spacy) (3.0.12)\n",
            "Requirement already satisfied: spacy-loggers<2.0.0,>=1.0.0 in /usr/local/lib/python3.10/dist-packages (from spacy) (1.0.5)\n",
            "Requirement already satisfied: murmurhash<1.1.0,>=0.28.0 in /usr/local/lib/python3.10/dist-packages (from spacy) (1.0.10)\n",
            "Requirement already satisfied: cymem<2.1.0,>=2.0.2 in /usr/local/lib/python3.10/dist-packages (from spacy) (2.0.8)\n",
            "Requirement already satisfied: preshed<3.1.0,>=3.0.2 in /usr/local/lib/python3.10/dist-packages (from spacy) (3.0.9)\n",
            "Requirement already satisfied: thinc<8.3.0,>=8.2.2 in /usr/local/lib/python3.10/dist-packages (from spacy) (8.2.5)\n",
            "Requirement already satisfied: wasabi<1.2.0,>=0.9.1 in /usr/local/lib/python3.10/dist-packages (from spacy) (1.1.3)\n",
            "Requirement already satisfied: srsly<3.0.0,>=2.4.3 in /usr/local/lib/python3.10/dist-packages (from spacy) (2.4.8)\n",
            "Requirement already satisfied: catalogue<2.1.0,>=2.0.6 in /usr/local/lib/python3.10/dist-packages (from spacy) (2.0.10)\n",
            "Requirement already satisfied: weasel<0.5.0,>=0.1.0 in /usr/local/lib/python3.10/dist-packages (from spacy) (0.4.1)\n",
            "Requirement already satisfied: typer<1.0.0,>=0.3.0 in /usr/local/lib/python3.10/dist-packages (from spacy) (0.12.5)\n",
            "Requirement already satisfied: tqdm<5.0.0,>=4.38.0 in /usr/local/lib/python3.10/dist-packages (from spacy) (4.66.5)\n",
            "Requirement already satisfied: requests<3.0.0,>=2.13.0 in /usr/local/lib/python3.10/dist-packages (from spacy) (2.32.3)\n",
            "Requirement already satisfied: pydantic!=1.8,!=1.8.1,<3.0.0,>=1.7.4 in /usr/local/lib/python3.10/dist-packages (from spacy) (2.9.2)\n",
            "Requirement already satisfied: jinja2 in /usr/local/lib/python3.10/dist-packages (from spacy) (3.1.4)\n",
            "Requirement already satisfied: setuptools in /usr/local/lib/python3.10/dist-packages (from spacy) (71.0.4)\n",
            "Requirement already satisfied: packaging>=20.0 in /usr/local/lib/python3.10/dist-packages (from spacy) (24.1)\n",
            "Requirement already satisfied: langcodes<4.0.0,>=3.2.0 in /usr/local/lib/python3.10/dist-packages (from spacy) (3.4.0)\n",
            "Requirement already satisfied: numpy>=1.19.0 in /usr/local/lib/python3.10/dist-packages (from spacy) (1.26.4)\n",
            "Requirement already satisfied: nltk>=3.2 in /usr/local/lib/python3.10/dist-packages (from benepar) (3.8.1)\n",
            "Requirement already satisfied: torch>=1.6.0 in /usr/local/lib/python3.10/dist-packages (from benepar) (2.4.1+cu121)\n",
            "Requirement already satisfied: torch-struct>=0.5 in /usr/local/lib/python3.10/dist-packages (from benepar) (0.5)\n",
            "Requirement already satisfied: tokenizers>=0.9.4 in /usr/local/lib/python3.10/dist-packages (from benepar) (0.19.1)\n",
            "Requirement already satisfied: transformers>=4.2.2 in /usr/local/lib/python3.10/dist-packages (from transformers[tokenizers,torch]>=4.2.2->benepar) (4.44.2)\n",
            "Requirement already satisfied: protobuf in /usr/local/lib/python3.10/dist-packages (from benepar) (3.20.3)\n",
            "Requirement already satisfied: sentencepiece>=0.1.91 in /usr/local/lib/python3.10/dist-packages (from benepar) (0.2.0)\n",
            "Requirement already satisfied: language-data>=1.2 in /usr/local/lib/python3.10/dist-packages (from langcodes<4.0.0,>=3.2.0->spacy) (1.2.0)\n",
            "Requirement already satisfied: click in /usr/local/lib/python3.10/dist-packages (from nltk>=3.2->benepar) (8.1.7)\n",
            "Requirement already satisfied: joblib in /usr/local/lib/python3.10/dist-packages (from nltk>=3.2->benepar) (1.4.2)\n",
            "Requirement already satisfied: regex>=2021.8.3 in /usr/local/lib/python3.10/dist-packages (from nltk>=3.2->benepar) (2024.9.11)\n",
            "Requirement already satisfied: annotated-types>=0.6.0 in /usr/local/lib/python3.10/dist-packages (from pydantic!=1.8,!=1.8.1,<3.0.0,>=1.7.4->spacy) (0.7.0)\n",
            "Requirement already satisfied: pydantic-core==2.23.4 in /usr/local/lib/python3.10/dist-packages (from pydantic!=1.8,!=1.8.1,<3.0.0,>=1.7.4->spacy) (2.23.4)\n",
            "Requirement already satisfied: typing-extensions>=4.6.1 in /usr/local/lib/python3.10/dist-packages (from pydantic!=1.8,!=1.8.1,<3.0.0,>=1.7.4->spacy) (4.12.2)\n",
            "Requirement already satisfied: charset-normalizer<4,>=2 in /usr/local/lib/python3.10/dist-packages (from requests<3.0.0,>=2.13.0->spacy) (3.3.2)\n",
            "Requirement already satisfied: idna<4,>=2.5 in /usr/local/lib/python3.10/dist-packages (from requests<3.0.0,>=2.13.0->spacy) (3.10)\n",
            "Requirement already satisfied: urllib3<3,>=1.21.1 in /usr/local/lib/python3.10/dist-packages (from requests<3.0.0,>=2.13.0->spacy) (2.2.3)\n",
            "Requirement already satisfied: certifi>=2017.4.17 in /usr/local/lib/python3.10/dist-packages (from requests<3.0.0,>=2.13.0->spacy) (2024.8.30)\n",
            "Requirement already satisfied: blis<0.8.0,>=0.7.8 in /usr/local/lib/python3.10/dist-packages (from thinc<8.3.0,>=8.2.2->spacy) (0.7.11)\n",
            "Requirement already satisfied: confection<1.0.0,>=0.0.1 in /usr/local/lib/python3.10/dist-packages (from thinc<8.3.0,>=8.2.2->spacy) (0.1.5)\n",
            "Requirement already satisfied: huggingface-hub<1.0,>=0.16.4 in /usr/local/lib/python3.10/dist-packages (from tokenizers>=0.9.4->benepar) (0.24.7)\n",
            "Requirement already satisfied: filelock in /usr/local/lib/python3.10/dist-packages (from torch>=1.6.0->benepar) (3.16.1)\n",
            "Requirement already satisfied: sympy in /usr/local/lib/python3.10/dist-packages (from torch>=1.6.0->benepar) (1.13.3)\n",
            "Requirement already satisfied: networkx in /usr/local/lib/python3.10/dist-packages (from torch>=1.6.0->benepar) (3.3)\n",
            "Requirement already satisfied: fsspec in /usr/local/lib/python3.10/dist-packages (from torch>=1.6.0->benepar) (2024.6.1)\n",
            "Requirement already satisfied: pyyaml>=5.1 in /usr/local/lib/python3.10/dist-packages (from transformers>=4.2.2->transformers[tokenizers,torch]>=4.2.2->benepar) (6.0.2)\n",
            "Requirement already satisfied: safetensors>=0.4.1 in /usr/local/lib/python3.10/dist-packages (from transformers>=4.2.2->transformers[tokenizers,torch]>=4.2.2->benepar) (0.4.5)\n",
            "Requirement already satisfied: accelerate>=0.21.0 in /usr/local/lib/python3.10/dist-packages (from transformers[tokenizers,torch]>=4.2.2->benepar) (0.34.2)\n",
            "Requirement already satisfied: shellingham>=1.3.0 in /usr/local/lib/python3.10/dist-packages (from typer<1.0.0,>=0.3.0->spacy) (1.5.4)\n",
            "Requirement already satisfied: rich>=10.11.0 in /usr/local/lib/python3.10/dist-packages (from typer<1.0.0,>=0.3.0->spacy) (13.8.1)\n",
            "Requirement already satisfied: cloudpathlib<1.0.0,>=0.7.0 in /usr/local/lib/python3.10/dist-packages (from weasel<0.5.0,>=0.1.0->spacy) (0.19.0)\n",
            "Requirement already satisfied: smart-open<8.0.0,>=5.2.1 in /usr/local/lib/python3.10/dist-packages (from weasel<0.5.0,>=0.1.0->spacy) (7.0.4)\n",
            "Requirement already satisfied: MarkupSafe>=2.0 in /usr/local/lib/python3.10/dist-packages (from jinja2->spacy) (2.1.5)\n",
            "Requirement already satisfied: psutil in /usr/local/lib/python3.10/dist-packages (from accelerate>=0.21.0->transformers[tokenizers,torch]>=4.2.2->benepar) (5.9.5)\n",
            "Requirement already satisfied: marisa-trie>=0.7.7 in /usr/local/lib/python3.10/dist-packages (from language-data>=1.2->langcodes<4.0.0,>=3.2.0->spacy) (1.2.0)\n",
            "Requirement already satisfied: markdown-it-py>=2.2.0 in /usr/local/lib/python3.10/dist-packages (from rich>=10.11.0->typer<1.0.0,>=0.3.0->spacy) (3.0.0)\n",
            "Requirement already satisfied: pygments<3.0.0,>=2.13.0 in /usr/local/lib/python3.10/dist-packages (from rich>=10.11.0->typer<1.0.0,>=0.3.0->spacy) (2.18.0)\n",
            "Requirement already satisfied: wrapt in /usr/local/lib/python3.10/dist-packages (from smart-open<8.0.0,>=5.2.1->weasel<0.5.0,>=0.1.0->spacy) (1.16.0)\n",
            "Requirement already satisfied: mpmath<1.4,>=1.1.0 in /usr/local/lib/python3.10/dist-packages (from sympy->torch>=1.6.0->benepar) (1.3.0)\n",
            "Requirement already satisfied: mdurl~=0.1 in /usr/local/lib/python3.10/dist-packages (from markdown-it-py>=2.2.0->rich>=10.11.0->typer<1.0.0,>=0.3.0->spacy) (0.1.2)\n"
          ]
        }
      ]
    },
    {
      "cell_type": "code",
      "source": [
        "import spacy\n",
        "import benepar\n",
        "from collections import Counter\n",
        "\n",
        "# Load the spaCy language model\n",
        "nlp = spacy.load(\"en_core_web_sm\")\n",
        "\n",
        "# Download benepar model if not already available\n",
        "benepar.download('benepar_en3')\n",
        "\n",
        "# Add benepar to spaCy pipeline if not already present\n",
        "if \"benepar\" not in nlp.pipe_names:\n",
        "    nlp.add_pipe(\"benepar\", config={\"model\": \"benepar_en3\"})\n",
        "\n",
        "# Example DataFrame for demonstration (replace this with your actual cleaned text DataFrame)\n",
        "import pandas as pd\n",
        "df = pd.DataFrame({\n",
        "    'lemmatized_text': [\"The product works well and is very efficient.\",\n",
        "                        \"This bike is great for long rides.\",\n",
        "                        \"The car is expensive but worth it.\"]\n",
        "})\n",
        "\n",
        "# Process the cleaned text with spaCy\n",
        "df['doc'] = df['lemmatized_text'].apply(nlp)\n",
        "\n",
        "# Task 1: POS Tagging and Count of Nouns, Verbs, Adjectives, Adverbs\n",
        "def count_pos(doc):\n",
        "    pos_counts = Counter([token.pos_ for token in doc])\n",
        "    return pos_counts\n",
        "\n",
        "df['pos_counts'] = df['doc'].apply(count_pos)\n",
        "\n",
        "# Summarize the total counts across all texts\n",
        "total_counts = Counter()\n",
        "for pos_count in df['pos_counts']:\n",
        "    total_counts.update(pos_count)\n",
        "\n",
        "print(\"Total POS counts across all reviews:\")\n",
        "print(f\"Nouns (NOUN): {total_counts['NOUN']}\")\n",
        "print(f\"Verbs (VERB): {total_counts['VERB']}\")\n",
        "print(f\"Adjectives (ADJ): {total_counts['ADJ']}\")\n",
        "print(f\"Adverbs (ADV): {total_counts['ADV']}\")\n",
        "print()\n",
        "\n",
        "# Task 2: Constituency Parsing and Dependency Parsing\n",
        "for doc in df['doc']:\n",
        "    for sent in doc.sents:\n",
        "        if sent._.parse_string:  # Check if benepar has successfully parsed the sentence\n",
        "            print(\"Constituency Parse Tree:\")\n",
        "            print(sent._.parse_string)  # Print constituency tree\n",
        "\n",
        "        print(\"\\nDependency Parse Tree:\")\n",
        "        for token in sent:\n",
        "            print(f\"{token.text} --> {token.dep_} --> {token.head.text}\")  # Print dependency tree\n",
        "        print()\n",
        "\n",
        "# Example sentence for explanation\n",
        "example_sentence = df['lemmatized_text'].iloc[0]\n",
        "doc = nlp(example_sentence)\n",
        "sent = list(doc.sents)[0]\n",
        "\n",
        "if sent._.parse_string:\n",
        "    print(\"\\nExample Constituency Parsing Tree:\")\n",
        "    print(sent._.parse_string)  # Example constituency tree\n",
        "\n",
        "print(\"\\nExample Dependency Parsing Tree:\")\n",
        "for token in sent:\n",
        "    print(f\"{token.text} --> {token.dep_} --> {token.head.text}\")  # Example dependency tree\n",
        "print()\n",
        "\n",
        "# Task 3: Named Entity Recognition (NER) and Counting Entities\n",
        "def extract_entities(doc):\n",
        "    entities = [(ent.text, ent.label_) for ent in doc.ents]\n",
        "    return entities\n",
        "\n",
        "df['entities'] = df['doc'].apply(extract_entities)\n",
        "\n",
        "def count_entity_types(entities):\n",
        "    entity_counts = Counter([ent[1] for ent in entities])\n",
        "    return entity_counts\n",
        "\n",
        "df['entity_counts'] = df['entities'].apply(count_entity_types)\n",
        "\n",
        "# Summarize the total entity counts across all reviews\n",
        "total_entity_counts = Counter()\n",
        "for entity_count in df['entity_counts']:\n",
        "    total_entity_counts.update(entity_count)\n",
        "\n",
        "print(\"Total entity counts across all reviews:\")\n",
        "print(f\"Person (PERSON): {total_entity_counts['PERSON']}\")\n",
        "print(f\"Organizations (ORG): {total_entity_counts['ORG']}\")\n",
        "print(f\"Locations (GPE): {total_entity_counts['GPE']}\")\n",
        "print(f\"Products (PRODUCT): {total_entity_counts['PRODUCT']}\")\n",
        "print(f\"Dates (DATE): {total_entity_counts['DATE']}\")"
      ],
      "metadata": {
        "colab": {
          "base_uri": "https://localhost:8080/"
        },
        "id": "5jCMQv-7mHlW",
        "outputId": "58aeab41-5abd-4cad-a6e2-4c5135f85bbf"
      },
      "execution_count": 18,
      "outputs": [
        {
          "output_type": "stream",
          "name": "stderr",
          "text": [
            "[nltk_data] Downloading package benepar_en3 to /root/nltk_data...\n",
            "[nltk_data]   Package benepar_en3 is already up-to-date!\n",
            "/usr/local/lib/python3.10/dist-packages/benepar/parse_chart.py:169: FutureWarning: You are using `torch.load` with `weights_only=False` (the current default value), which uses the default pickle module implicitly. It is possible to construct malicious pickle data which will execute arbitrary code during unpickling (See https://github.com/pytorch/pytorch/blob/main/SECURITY.md#untrusted-models for more details). In a future release, the default value for `weights_only` will be flipped to `True`. This limits the functions that could be executed during unpickling. Arbitrary objects will no longer be allowed to be loaded via this mode unless they are explicitly allowlisted by the user via `torch.serialization.add_safe_globals`. We recommend you start setting `weights_only=True` for any use case where you don't have full control of the loaded file. Please open an issue on GitHub for any issues related to this experimental feature.\n",
            "  state_dict = torch.load(\n",
            "/usr/local/lib/python3.10/dist-packages/transformers/tokenization_utils_base.py:1601: FutureWarning: `clean_up_tokenization_spaces` was not set. It will be set to `True` by default. This behavior will be depracted in transformers v4.45, and will be then set to `False` by default. For more details check this issue: https://github.com/huggingface/transformers/issues/31884\n",
            "  warnings.warn(\n",
            "You're using a T5TokenizerFast tokenizer. Please note that with a fast tokenizer, using the `__call__` method is faster than using a method to encode the text followed by a call to the `pad` method to get a padded encoding.\n",
            "/usr/local/lib/python3.10/dist-packages/torch/distributions/distribution.py:55: UserWarning: <class 'torch_struct.distributions.TreeCRF'> does not define `arg_constraints`. Please set `arg_constraints = {}` or initialize the distribution with `validate_args=False` to turn off validation.\n",
            "  warnings.warn(\n"
          ]
        },
        {
          "output_type": "stream",
          "name": "stdout",
          "text": [
            "Total POS counts across all reviews:\n",
            "Nouns (NOUN): 4\n",
            "Verbs (VERB): 1\n",
            "Adjectives (ADJ): 5\n",
            "Adverbs (ADV): 2\n",
            "\n",
            "Constituency Parse Tree:\n",
            "(S (NP (DT The) (NN product)) (VP (VP (VBZ works) (ADVP (RB well))) (CC and) (VP (VBZ is) (ADJP (RB very) (JJ efficient)))) (. .))\n",
            "\n",
            "Dependency Parse Tree:\n",
            "The --> det --> product\n",
            "product --> nsubj --> works\n",
            "works --> ROOT --> works\n",
            "well --> advmod --> works\n",
            "and --> cc --> works\n",
            "is --> conj --> works\n",
            "very --> advmod --> efficient\n",
            "efficient --> acomp --> is\n",
            ". --> punct --> works\n",
            "\n",
            "Constituency Parse Tree:\n",
            "(S (NP (DT This) (NN bike)) (VP (VBZ is) (ADJP (JJ great) (PP (IN for) (NP (JJ long) (NNS rides))))) (. .))\n",
            "\n",
            "Dependency Parse Tree:\n",
            "This --> det --> bike\n",
            "bike --> nsubj --> is\n",
            "is --> ROOT --> is\n",
            "great --> acomp --> is\n",
            "for --> prep --> is\n",
            "long --> amod --> rides\n",
            "rides --> pobj --> for\n",
            ". --> punct --> is\n",
            "\n",
            "Constituency Parse Tree:\n",
            "(S (NP (DT The) (NN car)) (VP (VBZ is) (ADJP (ADJP (JJ expensive)) (CC but) (ADJP (JJ worth) (NP (PRP it))))) (. .))\n",
            "\n",
            "Dependency Parse Tree:\n",
            "The --> det --> car\n",
            "car --> nsubj --> is\n",
            "is --> ROOT --> is\n",
            "expensive --> acomp --> is\n",
            "but --> cc --> expensive\n",
            "worth --> conj --> expensive\n",
            "it --> npadvmod --> worth\n",
            ". --> punct --> is\n",
            "\n",
            "\n",
            "Example Constituency Parsing Tree:\n",
            "(S (NP (DT The) (NN product)) (VP (VP (VBZ works) (ADVP (RB well))) (CC and) (VP (VBZ is) (ADJP (RB very) (JJ efficient)))) (. .))\n",
            "\n",
            "Example Dependency Parsing Tree:\n",
            "The --> det --> product\n",
            "product --> nsubj --> works\n",
            "works --> ROOT --> works\n",
            "well --> advmod --> works\n",
            "and --> cc --> works\n",
            "is --> conj --> works\n",
            "very --> advmod --> efficient\n",
            "efficient --> acomp --> is\n",
            ". --> punct --> works\n",
            "\n",
            "Total entity counts across all reviews:\n",
            "Person (PERSON): 0\n",
            "Organizations (ORG): 0\n",
            "Locations (GPE): 0\n",
            "Products (PRODUCT): 0\n",
            "Dates (DATE): 0\n"
          ]
        },
        {
          "output_type": "stream",
          "name": "stderr",
          "text": [
            "/usr/local/lib/python3.10/dist-packages/torch/distributions/distribution.py:55: UserWarning: <class 'torch_struct.distributions.TreeCRF'> does not define `arg_constraints`. Please set `arg_constraints = {}` or initialize the distribution with `validate_args=False` to turn off validation.\n",
            "  warnings.warn(\n"
          ]
        }
      ]
    },
    {
      "cell_type": "code",
      "source": [
        "# Extract named entities and their types\n",
        "def extract_entities(doc):\n",
        "    entities = [(ent.text, ent.label_) for ent in doc.ents]\n",
        "    return entities\n",
        "\n",
        "# Apply the entity extraction\n",
        "df['entities'] = df['doc'].apply(extract_entities)\n",
        "\n",
        "# Function to count entity types\n",
        "def count_entity_types(entities):\n",
        "    entity_counts = Counter([ent[1] for ent in entities])\n",
        "    return entity_counts\n",
        "\n",
        "# Apply the entity counting function\n",
        "df['entity_counts'] = df['entities'].apply(count_entity_types)\n",
        "\n",
        "# Summarize the total entity counts across all reviews\n",
        "total_entity_counts = Counter()\n",
        "for entity_count in df['entity_counts']:\n",
        "    total_entity_counts.update(entity_count)\n",
        "\n",
        "# Print out counts of specific entities of interest\n",
        "print(\"Total entity counts across all reviews:\")\n",
        "print(f\"Person (PERSON): {total_entity_counts['PERSON']}\")\n",
        "print(f\"Organizations (ORG): {total_entity_counts['ORG']}\")\n",
        "print(f\"Locations (GPE): {total_entity_counts['GPE']}\")\n",
        "print(f\"Products (PRODUCT): {total_entity_counts['PRODUCT']}\")\n",
        "print(f\"Dates (DATE): {total_entity_counts['DATE']}\")"
      ],
      "metadata": {
        "colab": {
          "base_uri": "https://localhost:8080/"
        },
        "id": "qeZlgr7vmLyF",
        "outputId": "6a0724e8-2cdd-4ab3-db65-28bf67b00a00"
      },
      "execution_count": 19,
      "outputs": [
        {
          "output_type": "stream",
          "name": "stdout",
          "text": [
            "Total entity counts across all reviews:\n",
            "Person (PERSON): 0\n",
            "Organizations (ORG): 0\n",
            "Locations (GPE): 0\n",
            "Products (PRODUCT): 0\n",
            "Dates (DATE): 0\n"
          ]
        }
      ]
    },
    {
      "cell_type": "markdown",
      "source": [
        "#**Comment**\n",
        "Make sure to submit the cleaned data CSV in the comment section - 10 points"
      ],
      "metadata": {
        "id": "CXNn1lEVbMsv"
      }
    },
    {
      "cell_type": "code",
      "source": [
        "https://docs.google.com/spreadsheets/d/1aPcT9KPIBToGAZGmC5O-yXVNwoRTn_AyVRDlLl-QA1E/edit?usp=sharing"
      ],
      "metadata": {
        "id": "qYRO5Cn8bYwZ"
      },
      "execution_count": null,
      "outputs": []
    },
    {
      "cell_type": "markdown",
      "source": [
        "# Mandatory Question\n",
        "\n",
        "Provide your thoughts on the assignment. What did you find challenging, and what aspects did you enjoy? Your opinion on the provided time to complete the assignment."
      ],
      "metadata": {
        "id": "q8BFCvWp32cf"
      }
    },
    {
      "cell_type": "code",
      "source": [
        "# Write your response below\n",
        "# It is important you break down the assignment into pieces and give extra time to actaully work and learn"
      ],
      "metadata": {
        "id": "_e557s2w4BpK"
      },
      "execution_count": null,
      "outputs": []
    }
  ],
  "metadata": {
    "colab": {
      "provenance": [],
      "include_colab_link": true
    },
    "kernelspec": {
      "display_name": "Python 3 (ipykernel)",
      "language": "python",
      "name": "python3"
    },
    "language_info": {
      "codemirror_mode": {
        "name": "ipython",
        "version": 3
      },
      "file_extension": ".py",
      "mimetype": "text/x-python",
      "name": "python",
      "nbconvert_exporter": "python",
      "pygments_lexer": "ipython3",
      "version": "3.9.12"
    }
  },
  "nbformat": 4,
  "nbformat_minor": 0
}