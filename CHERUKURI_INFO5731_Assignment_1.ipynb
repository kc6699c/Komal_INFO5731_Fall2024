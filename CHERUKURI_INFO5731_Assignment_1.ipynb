{
  "cells": [
    {
      "cell_type": "markdown",
      "metadata": {
        "id": "view-in-github",
        "colab_type": "text"
      },
      "source": [
        "<a href=\"https://colab.research.google.com/github/kc6699c/Komal_INFO5731_Fall2024/blob/main/CHERUKURI_INFO5731_Assignment_1.ipynb\" target=\"_parent\"><img src=\"https://colab.research.google.com/assets/colab-badge.svg\" alt=\"Open In Colab\"/></a>"
      ]
    },
    {
      "cell_type": "markdown",
      "metadata": {
        "id": "Ryk8D1Q4Wsrp"
      },
      "source": [
        "# **INFO5731 Assignment One**"
      ]
    },
    {
      "cell_type": "markdown",
      "source": [
        "This assignment includes range of programming tasks and data analysis exercises, aiming to enhance your Python skills and proficiency in string manipulation, numerical computations, and data science. Follow the instructions carefully and design well-structured Python programs to address each question.\n",
        "\n",
        "Late Submission will have a penalty of 10% reduction for each day after the deadline."
      ],
      "metadata": {
        "id": "qcP6re2g5A5r"
      }
    },
    {
      "cell_type": "markdown",
      "metadata": {
        "id": "JkzR8cFAyGik"
      },
      "source": [
        "# Question 1 (10 points).\n",
        "\n",
        "The formula that describes the volume V of a hemisphere with radius r is the following:\n",
        "\n",
        "$ V=\\frac{2}{3}\\ast\\ \\pi\\ast\\ r^3 $\n",
        "\n",
        "Write a program to calculate the value of V when r is in the range of even numbers from 1-20. Output the result in the following format:\n",
        "\n",
        "\tr\tV\n",
        "\t2\t…\n",
        "\t4\t…\n",
        "\t6\t…\n",
        "\t.\n",
        "\t.\n",
        "\t.\n",
        "\t20\t…\n"
      ]
    },
    {
      "cell_type": "code",
      "execution_count": 2,
      "metadata": {
        "id": "jDyTKYs-yGit",
        "colab": {
          "base_uri": "https://localhost:8080/"
        },
        "outputId": "882af392-3c74-4be4-d6f5-e7371fe33537"
      },
      "outputs": [
        {
          "output_type": "stream",
          "name": "stdout",
          "text": [
            "16.755160819145562\n"
          ]
        }
      ],
      "source": [
        "# Your code here\n",
        "import math\n",
        "r = 2\n",
        "Volume = (2/3)*math.pi*(r**3)\n",
        "\n",
        "print(Volume)"
      ]
    },
    {
      "cell_type": "code",
      "source": [
        "import math\n",
        "\n",
        "def hemisphere_volume(r):\n",
        "    return (2/3)*math.pi*(r**3)\n",
        "\n",
        "for r in range(2, 21, 2): # Loop through even numbers in the range 1 to 20\n",
        "    volume = hemisphere_volume(r) # Calculate the volume of the hemisphere with radius r\n",
        "    print(r, volume)\n",
        "\n",
        "#I tried my own examples more to find\n",
        "for r in range(1, 22): # Loop through numbers in the range 1 to 20\n",
        "    if r % 3 == 0:  # Check if r is divisible by 3\n",
        "        volume = hemisphere_volume(r)\n",
        "        print(f\"r = {r}, V = {volume:.2f}\")"
      ],
      "metadata": {
        "colab": {
          "base_uri": "https://localhost:8080/"
        },
        "id": "iu5Ho9DWmQZg",
        "outputId": "f1a801f8-5bbf-47c0-cdc5-d78cff180b48"
      },
      "execution_count": 6,
      "outputs": [
        {
          "output_type": "stream",
          "name": "stdout",
          "text": [
            "2 16.755160819145562\n",
            "4 134.0412865531645\n",
            "6 452.38934211693015\n",
            "8 1072.330292425316\n",
            "10 2094.3951023931954\n",
            "12 3619.114736935441\n",
            "14 5747.0201609669275\n",
            "16 8578.642339402528\n",
            "18 12214.512237157114\n",
            "20 16755.160819145563\n",
            "r = 3, V = 56.55\n",
            "r = 6, V = 452.39\n",
            "r = 9, V = 1526.81\n",
            "r = 12, V = 3619.11\n",
            "r = 15, V = 7068.58\n",
            "r = 18, V = 12214.51\n",
            "r = 21, V = 19396.19\n"
          ]
        }
      ]
    },
    {
      "cell_type": "markdown",
      "metadata": {
        "id": "90_NR8c5XGWc"
      },
      "source": [
        "# Question 2 (20 points)\n",
        "\n",
        "(a) Write a Python program to generate a sequence of 12 random numbers falling within the range of 50 to 150.\n",
        "\n",
        "(b) Arrange the generated numbers in ascending order. Display the sorted list.\n",
        "\n",
        "(c) Extend the program to arrange the numbers in descending order as well. Present the sorted list accordingly.\n",
        "\n",
        "(d) Compute and output the average of the entire group of generated numbers.\n",
        "\n",
        "(e) Enhance the program to calculate and display the average of the first 6 numbers from both the ascending and descending sorted lists."
      ]
    },
    {
      "cell_type": "code",
      "execution_count": 19,
      "metadata": {
        "id": "5QX6bJjGWXY9",
        "colab": {
          "base_uri": "https://localhost:8080/"
        },
        "outputId": "d08ef1a8-021f-4bd8-dca8-818f9987b5b3"
      },
      "outputs": [
        {
          "output_type": "stream",
          "name": "stdout",
          "text": [
            "[80, 81, 130, 51, 133, 81, 128, 98, 109, 69, 83, 105]\n",
            "[51, 69, 80, 81, 81, 83, 98, 105, 109, 128, 130, 133]\n",
            "[133, 130, 128, 109, 105, 98, 83, 81, 81, 80, 69, 51]\n",
            "95.66666666666667\n",
            "74.16666666666667\n",
            "117.16666666666667\n"
          ]
        }
      ],
      "source": [
        "# Write code for each of the sub parts with proper comments.\n",
        "\n",
        "import random\n",
        "\n",
        "ran_num = [random.randint(50, 150) for i in range(12)] #used random numbers package to generate 12 random numbers\n",
        "\n",
        "asc_num = sorted(ran_num, reverse=False)\n",
        "\n",
        "des_num = sorted(ran_num, reverse=True)\n",
        "\n",
        "avg = sum(ran_num)/len(ran_num)\n",
        "\n",
        "avg_first_6_asc = sum(asc_num[:6]) / 6\n",
        "\n",
        "avg_first_6_des = sum(des_num[:6]) / 6\n",
        "\n",
        "print(ran_num)\n",
        "print(asc_num)\n",
        "print(des_num)\n",
        "print(avg)\n",
        "print(avg_first_6_asc)\n",
        "print(avg_first_6_des)"
      ]
    },
    {
      "cell_type": "markdown",
      "metadata": {
        "id": "1F_PZdH9Sh49"
      },
      "source": [
        "# Question 3 (20 points).\n",
        "\n",
        "Create a Python program that encompasses various string manipulation task:\n",
        "\n",
        "(a) Prompt the user to input two sentences.\n",
        "\n",
        "(b) Transform each sentence into a list, where each element corresponds to a word in the sentence. For example, if the sentences are \"Hello, how are you doing today?\" and \"This is an example sentence for the program!\"\n",
        "\n",
        "The program should output:\n",
        "['Hello', ',', 'how', 'are', 'you', 'doing', 'today', '?', 'This', 'is', 'an', 'example', 'sentence', 'for', 'the', 'program', '!']\n",
        "\n",
        "(c) Compare the two sentences. Print out a list of words that occur in both sentences.\n",
        "\n",
        "(d) Remove any punctuation from the sentence and print the sanitized sentences. It should remove at least the following characters, but it can remove more: period(“.”), comma (“,”), semicolon (“;”), and colon (“:”).\n",
        "\n",
        "(e) Count the number of vowels in each of the sentences. Print out each vowel and the occurrences  in the each of the two sentences separately, such as:\n",
        "\n",
        "Sentence1: a:2, e:2, i:0, etc.\n",
        "Sentence2: a:1, e:2, i:2, etc.\n",
        "\n",
        "Design a well-structured Python program to execute these tasks efficiently."
      ]
    },
    {
      "cell_type": "code",
      "execution_count": 29,
      "metadata": {
        "id": "Y0oOSlsOS0cq",
        "colab": {
          "base_uri": "https://localhost:8080/"
        },
        "outputId": "8898699c-18c7-4987-9450-931561e9b0c8"
      },
      "outputs": [
        {
          "output_type": "stream",
          "name": "stdout",
          "text": [
            "Please enter the first sentence: Hi, How are you?\n",
            "Please enter the second sentence: Hello, How are you?\n",
            "['Hi,', 'How', 'are', 'you?']\n",
            "['Hello,', 'How', 'are', 'you?']\n",
            "['Hi,', 'How', 'are', 'you?', 'Hello,', 'How', 'are', 'you?']\n",
            "{'you?', 'are', 'How'}\n",
            "Hi How are you\n",
            "Hello How are you\n",
            "Sentence1: a:1, e:1, i:1, o:2, u:1\n",
            "Sentence2: a:1, e:2, i:0, o:3, u:1\n"
          ]
        }
      ],
      "source": [
        "# Your code here\n",
        "\n",
        "sen1 = input(\"Please enter the first sentence: \")\n",
        "sen2 = input(\"Please enter the second sentence: \")\n",
        "\n",
        "List1 = sen1.split()\n",
        "List2 = sen2.split()\n",
        "\n",
        "combine = List1 + List2\n",
        "\n",
        "#common = set(List1) & set(List2)\n",
        "common = set(List1).intersection(List2)\n",
        "\n",
        "rm_pun1 = sen1.translate(str.maketrans('', '', '.,;:?'))\n",
        "rm_pun2 = sen2.translate(str.maketrans('', '', '.,;:?'))\n",
        "\n",
        "# Define the vowels\n",
        "vowels = 'aeiou'\n",
        "\n",
        "def count_vowels(sentence):\n",
        "    # Dictionary to store the count of each vowel, initialized to 0\n",
        "    count = {vowel: 0 for vowel in vowels}\n",
        "    # Iterate over each character in the sentence\n",
        "    for char in sentence.lower():\n",
        "        if char in vowels:\n",
        "            count[char] += 1\n",
        "    return count\n",
        "\n",
        "# Count vowels in each sentence\n",
        "vowel_count1 = count_vowels(sen1)\n",
        "vowel_count2 = count_vowels(sen2)\n",
        "\n",
        "# Function to format the output string\n",
        "def format_vowel_output(vowel_count):\n",
        "    return ', '.join(f\"{k}:{v}\" for k, v in vowel_count.items())\n",
        "\n",
        "\n",
        "\n",
        "print(List1)\n",
        "print(List2)\n",
        "print(combine)\n",
        "print(common)\n",
        "print(rm_pun1)\n",
        "print(rm_pun2)\n",
        "print(f\"Sentence1: {format_vowel_output(vowel_count1)}\")\n",
        "print(f\"Sentence2: {format_vowel_output(vowel_count2)}\")"
      ]
    },
    {
      "cell_type": "markdown",
      "source": [
        "# Question 4 (20 Points)"
      ],
      "metadata": {
        "id": "OP4-5qxAtInv"
      }
    },
    {
      "cell_type": "markdown",
      "source": [
        "Design and implement a simple command-line calculator program. The program should handle both integers and floating-point numbers.\n",
        "\n",
        "(a) Write program that takes a mathematical expression as input and evaluates it. The program should support addition, subtraction, multiplication, and division.\n",
        "\n",
        "(b) Extend the calculator to handle parentheses in mathematical expressions. Implement the necessary logic to evaluate expressions with nested parentheses.\n",
        "\n",
        "(c) Enhance your calculator to include additional mathematical operations such as exponentiation, square root, and modulus.\n",
        "\n",
        "(d) Implement error handling in the calculator program. Handle cases such as division by zero and invalid input expressions. Provide meaningful error messages.\n",
        "\n",
        "(e) Implement a command to exit the calculator."
      ],
      "metadata": {
        "id": "uzN4_hDptK9U"
      }
    },
    {
      "cell_type": "code",
      "source": [
        "# Your code here\n",
        "import math\n",
        "a = int(input(\"Enter the first number: \"))\n",
        "b = int(input(\"Enter the second number: \"))\n",
        "\n",
        "add = a + b\n",
        "sub = a - b\n",
        "mul = a * b\n",
        "div = a / b\n",
        "exp = a ** b\n",
        "rem = a % b\n",
        "\n",
        "\n",
        "print(add)\n",
        "print(sub)\n",
        "print(mul)\n",
        "print(div)\n",
        "\n",
        "expression = input(\"Enter a mathematical expression: \")\n",
        "result = eval(expression)\n",
        "print(\"The result is:\", result)"
      ],
      "metadata": {
        "id": "8nQnVxjJuYtu",
        "colab": {
          "base_uri": "https://localhost:8080/"
        },
        "outputId": "143f5d9f-a757-453d-d931-80ae00d17377"
      },
      "execution_count": 35,
      "outputs": [
        {
          "output_type": "stream",
          "name": "stdout",
          "text": [
            "Enter the first number: 10\n",
            "Enter the second number: 2\n",
            "12\n",
            "8\n",
            "20\n",
            "5.0\n",
            "Enter a mathematical expression: mul\n",
            "The result is: 20\n"
          ]
        }
      ]
    },
    {
      "cell_type": "code",
      "source": [
        "print(\"Welcome to the Simple Calculator!\")\n",
        "print(\"You can perform operations: +, -, *, /, ^ for power, % for modulus, and sqrt for square root.\")\n",
        "print(\"Type 'exit' to close the calculator.\")\n",
        "\n",
        "while True:\n",
        "    expression = input(\"Enter expression: \")\n",
        "\n",
        "    # Check if the user wants to exit\n",
        "    if expression.lower() == \"exit\":\n",
        "        print(\"Exiting the calculator. Goodbye!\")\n",
        "        break\n",
        "\n",
        "    try:\n",
        "        if 'sqrt' in expression:\n",
        "            start = expression.find('sqrt') + 4\n",
        "            end = start\n",
        "            while end < len(expression) and (expression[end].isdigit() or expression[end] == '.'):\n",
        "                end += 1\n",
        "            number = expression[start:end]\n",
        "            expression = expression.replace('sqrt' + number, f'({number})**0.5')\n",
        "        result = eval(expression)\n",
        "        print(\"Result:\", result)\n",
        "    except ZeroDivisionError:\n",
        "        print(\"Error: Division by zero is not allowed.\")\n",
        "    except Exception as e:\n",
        "        print(\"Error: Invalid input.\", str(e))"
      ],
      "metadata": {
        "colab": {
          "base_uri": "https://localhost:8080/"
        },
        "id": "Ga0z4iw5t486",
        "outputId": "b368d6db-a07b-439c-db64-0d3a391ed2dd"
      },
      "execution_count": 53,
      "outputs": [
        {
          "output_type": "stream",
          "name": "stdout",
          "text": [
            "Welcome to the Simple Calculator!\n",
            "You can perform operations: +, -, *, /, ^ for power, % for modulus, and sqrt for square root.\n",
            "Type 'exit' to close the calculator.\n",
            "Enter expression: add\n",
            "Result: 12\n",
            "Enter expression: sub\n",
            "Result: 8\n",
            "Enter expression: mul\n",
            "Result: 20\n",
            "Enter expression: div\n",
            "Result: 5.0\n",
            "Enter expression: exit\n",
            "Exiting the calculator. Goodbye!\n"
          ]
        }
      ]
    },
    {
      "cell_type": "markdown",
      "metadata": {
        "id": "z3tBE7E-Xn5X"
      },
      "source": [
        "# Question 5 (30 points).\n",
        "\n",
        "In the field of Data Science, data is often formatted as a comma-delimited (CSV) file, where each line in a file corresponds to a field's value. Refer to Chapter 9 (p. 106) for more information on comma-delimited files.\n",
        "\n",
        "To answer this question, you will need to download the file [Assignment1_denton_housing.csv](https://raw.githubusercontent.com/unt-iialab/info5731-spring2022/main/assignments/Assignment1_denton_housing.csv) included with this assignment. The file contains statistics about housing in the city of Denton from 2008 to 2014. Write a program to implement the following questions.\n",
        "\n",
        "(a) (5 pts) Calculate the difference in the number of Occupied Housing Units from year to year and print it. The difference must be calculated for the consecutive years such as 2008-2009, 2009-2010 etc. Finally, print the values in the ascending order.\n",
        "\n",
        "(b) (5 pts) For all the years, calculate the percentage of housing units which are vacant an occupied. Print the results in the following format:\n",
        "\n",
        "Year Vacant Housing Units Occupied Housing Units\n",
        "\n",
        "    2008  30%   70%                          \n",
        "\t2009 ----- -----\n",
        "\t2010 ----- -----\n",
        "    2011 ----- -----\n",
        "\t2012 ----- -----\n",
        "    2013 ----- -----\n",
        "\t2014 ----- -----\n",
        "  \n",
        "  \n",
        "\n",
        "(c) (10 pts) Calculate and print the valued and years in which the highest number of housing units were vacant and occupied. Print the results in the following format:  \n",
        "\n",
        "                              Year\tValue\n",
        "\tVacant Housing Units\t  -----   -----\n",
        "\tOccupied Housing Units\t-----   -----\n",
        "\n",
        "(d) (10 pts) Calculate the harmonic mean of the total housing units and print it out. You can find the information about harmonic mean here: https://ncalculators.com/statistics/harmonic-mean-calculator.htm"
      ]
    },
    {
      "cell_type": "code",
      "execution_count": 50,
      "metadata": {
        "id": "lqGYuHBhcsRH",
        "colab": {
          "base_uri": "https://localhost:8080/"
        },
        "outputId": "474d60dd-7578-4f8b-ad66-536b2835cbd9"
      },
      "outputs": [
        {
          "output_type": "stream",
          "name": "stdout",
          "text": [
            "Q5(a) year  difference\n",
            " 2009      -795.0\n",
            " 2011      -303.0\n",
            " 2012      1404.0\n",
            " 2013      1565.0\n",
            " 2014      2622.0\n",
            " 2010      5091.0\n",
            " Year Vacant Housing Units Occupied Housing Units\n",
            " 2014                5.73%                 94.27%\n",
            " 2013                 8.8%                  91.2%\n",
            " 2012                6.68%                 93.32%\n",
            " 2011                9.38%                 90.62%\n",
            " 2010                8.14%                 91.86%\n",
            " 2009                9.07%                 90.93%\n",
            " 2008               10.88%                 89.12%\n",
            "Year with the highest vacant units: 2008 (4483 units)\n",
            "Year with the highest occupied units: 2014 (46295 units)\n",
            "The harmonic mean of the total housing units is: 44398.28543969185\n"
          ]
        }
      ],
      "source": [
        " # Your code here\n",
        "\n",
        "import pandas as pd\n",
        "from scipy.stats import hmean\n",
        "\n",
        "data = \"https://raw.githubusercontent.com/unt-iialab/info5731-spring2022/main/assignments/Assignment1_denton_housing.csv\"\n",
        "\n",
        "df = pd.read_csv(data)\n",
        "\n",
        "occupied_housing = df[df['title_field'] == 'Occupied Housing Units']\n",
        "\n",
        "occupied_housing = occupied_housing.sort_values(by='year')\n",
        "\n",
        "occupied_housing['difference'] = occupied_housing['value'].diff()\n",
        "\n",
        "occupied_housing = occupied_housing.dropna()\n",
        "\n",
        "occupied_housing = occupied_housing.sort_values(by='difference')\n",
        "\n",
        "print('Q5(a)' + occupied_housing[['year', 'difference']].to_string(index=False))\n",
        "\n",
        "# Filter data for 'Total Housing Units', 'Vacant Housing Units', and 'Occupied Housing Units'\n",
        "total_housing = df[df['title_field'] == 'Total Housing Units'].set_index('year')\n",
        "vacant_housing = df[df['title_field'] == 'Vacant Housing Units'].set_index('year')\n",
        "occupied_housing = df[df['title_field'] == 'Occupied Housing Units'].set_index('year')\n",
        "\n",
        "# Calculate the percentages\n",
        "percentage_vacant = (vacant_housing['value'] / total_housing['value']) * 100\n",
        "percentage_occupied = (occupied_housing['value'] / total_housing['value']) * 100\n",
        "\n",
        "results = pd.DataFrame({\n",
        "    'Year': total_housing.index,\n",
        "    'Vacant Housing Units': percentage_vacant.round(2).astype(str) + '%',\n",
        "    'Occupied Housing Units': percentage_occupied.round(2).astype(str) + '%'\n",
        "})\n",
        "\n",
        "# Sort the results by year\n",
        "results.sort_index(ascending=False, inplace=True)\n",
        "\n",
        "print(results.to_string(index=False))\n",
        "\n",
        "vacant_housing = df[df['title_field'] == 'Vacant Housing Units']\n",
        "occupied_housing = df[df['title_field'] == 'Occupied Housing Units']\n",
        "\n",
        "# Find the year with the maximum number of vacant and occupied units\n",
        "max_vacant = vacant_housing.loc[vacant_housing['value'].idxmax()]\n",
        "max_occupied = occupied_housing.loc[occupied_housing['value'].idxmax()]\n",
        "\n",
        "# Print the results in the specified format\n",
        "print(f\"Year with the highest vacant units: {max_vacant['year']} ({max_vacant['value']} units)\")\n",
        "print(f\"Year with the highest occupied units: {max_occupied['year']} ({max_occupied['value']} units)\")\n",
        "\n",
        "total_housing_units = df[df['title_field'] == 'Total Housing Units']['value']\n",
        "\n",
        "harmonic_mean = hmean(total_housing_units)\n",
        "\n",
        "print(f\"Harmonic mean of the total housing units is: {harmonic_mean}\")"
      ]
    },
    {
      "cell_type": "markdown",
      "source": [
        "# Mandatory Question\n",
        "\n",
        "Provide your thoughts on the assignment. What did you find challenging, and what aspects did you enjoy? Your opinion on the provided time to complete the assignment. Share any suggestions for improvement. Your feedback will be valuable for enhancing the learning experience."
      ],
      "metadata": {
        "id": "q8BFCvWp32cf"
      }
    },
    {
      "cell_type": "code",
      "source": [
        "# Write your response below"
      ],
      "metadata": {
        "id": "_e557s2w4BpK"
      },
      "execution_count": 54,
      "outputs": []
    },
    {
      "cell_type": "code",
      "source": [
        "#Easy Assignment good to learn or revise basic concepts."
      ],
      "metadata": {
        "id": "FlvoGyEtukk9"
      },
      "execution_count": 55,
      "outputs": []
    },
    {
      "cell_type": "code",
      "source": [
        "#One recommendation is that, instead going through the slides it is better if start by tutorial. I am very curious to play with this in the class.\n",
        "#Especially in the class have different approach. With the interaction discussion we can enhance our knowledge."
      ],
      "metadata": {
        "id": "uJtpGjdwusz5"
      },
      "execution_count": null,
      "outputs": []
    }
  ],
  "metadata": {
    "colab": {
      "provenance": [],
      "include_colab_link": true
    },
    "kernelspec": {
      "display_name": "Python 3 (ipykernel)",
      "language": "python",
      "name": "python3"
    },
    "language_info": {
      "codemirror_mode": {
        "name": "ipython",
        "version": 3
      },
      "file_extension": ".py",
      "mimetype": "text/x-python",
      "name": "python",
      "nbconvert_exporter": "python",
      "pygments_lexer": "ipython3",
      "version": "3.9.12"
    }
  },
  "nbformat": 4,
  "nbformat_minor": 0
}